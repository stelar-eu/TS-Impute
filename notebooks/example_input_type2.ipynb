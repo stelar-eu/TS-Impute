{
 "cells": [
  {
   "cell_type": "code",
   "outputs": [],
   "source": [
    "import stelarImputation as tsi\n",
    "import pandas as pd\n",
    "import numpy as np"
   ],
   "metadata": {
    "collapsed": false,
    "ExecuteTime": {
     "end_time": "2024-08-07T13:34:33.456937Z",
     "start_time": "2024-08-07T13:34:33.453284Z"
    }
   },
   "id": "7d06e22ee8dfb7bd",
   "execution_count": 18
  },
  {
   "cell_type": "markdown",
   "source": [
    "## Scale Data"
   ],
   "metadata": {
    "collapsed": false
   },
   "id": "c525b35375bb479d"
  },
  {
   "cell_type": "code",
   "outputs": [],
   "source": [
    "df_input = '../datasets/example_input_type2.csv'\n",
    "\n",
    "parameters = {\n",
    "    'time_column' : 'time',\n",
    "    'sep' : ',',\n",
    "    'header' : 0,\n",
    "    'preprocessing': False,\n",
    "    'index': False,\n",
    "}\n",
    "\n",
    "time_column = parameters['time_column']\n",
    "header = parameters['header']\n",
    "sep = parameters['sep']\n",
    "preprocessing = parameters['preprocessing']\n",
    "index = parameters['index']"
   ],
   "metadata": {
    "collapsed": false,
    "ExecuteTime": {
     "end_time": "2024-08-07T13:34:33.478122Z",
     "start_time": "2024-08-07T13:34:33.471130Z"
    }
   },
   "id": "97227f022732d820",
   "execution_count": 19
  },
  {
   "cell_type": "code",
   "outputs": [
    {
     "data": {
      "text/plain": "           time  3i Group PLC_035999.txt  Admiral Group_036346.txt  \\\n0    2017-01-02                -2.152305                 -1.347635   \n1    2017-01-03                -2.053810                 -1.189826   \n2    2017-01-04                -1.992251                 -1.325091   \n3    2017-01-05                -1.924536                 -1.336363   \n4    2017-01-06                -1.912224                 -1.313819   \n..          ...                      ...                       ...   \n516  2018-12-25                -1.509627                  0.405175   \n517  2018-12-26                -1.509627                  0.405175   \n518  2018-12-27                -1.310175                  0.433355   \n519  2018-12-28                -1.027002                  0.861694   \n520  2018-12-31                -1.297863                  1.132225   \n\n     Anglo American PLC_035918.txt  Antofagasta PLC_028149.txt  \\\n0                        -1.294240                   -2.295047   \n1                        -1.286110                   -2.136391   \n2                        -1.365373                   -2.120526   \n3                        -1.355211                   -2.035909   \n4                        -1.395858                   -2.094083   \n..                             ...                         ...   \n516                       1.060066                   -1.271187   \n517                       1.060066                   -1.271187   \n518                       0.958448                   -1.406574   \n519                       1.121038                   -1.173878   \n520                       1.095023                   -1.150609   \n\n     Ashtead Group_028090.txt  Associated British Foods PLC_035919.txt  \\\n0                   -1.199292                                 0.108603   \n1                   -1.136860                                -0.002687   \n2                   -1.155222                                -0.333285   \n3                   -1.122170                                -0.087792   \n4                   -1.155222                                -0.185989   \n..                        ...                                      ...   \n516                 -0.967925                                -2.068105   \n517                 -0.967925                                -2.068105   \n518                 -1.175421                                -2.195762   \n519                 -0.978943                                -2.100838   \n520                 -0.989960                                -2.189215   \n\n     Astrazeneca PLC_035998.txt  Aviva PLC_035907.txt  \\\n0                     -1.456547             -0.317386   \n1                     -1.453486             -0.134716   \n2                     -1.376940             -0.145305   \n3                     -1.226910             -0.222080   \n4                     -1.225889             -0.237964   \n..                          ...                   ...   \n516                    1.653256             -3.340717   \n517                    1.653256             -3.340717   \n518                    1.161321             -3.541919   \n519                    1.434845             -3.224231   \n520                    1.473629             -3.253352   \n\n     Barclays PLC_035976.txt  ...  Standard Chartered PLC_035959.txt  \\\n0                   1.288425  ...                          -0.841939   \n1                   1.719911  ...                          -0.641924   \n2                   1.878207  ...                          -0.565862   \n3                   1.753102  ...                          -0.465855   \n4                   1.890973  ...                          -0.389793   \n..                       ...  ...                                ...   \n516                -2.628650  ...                          -1.847647   \n517                -2.628650  ...                          -1.847647   \n518                -2.662352  ...                          -1.995545   \n519                -2.455035  ...                          -1.723694   \n520                -2.435631  ...                          -1.606784   \n\n     Standard Life Aberdeen Plc_036365.txt  Taylor Wimpey PLC_036366.txt  \\\n0                                 0.109476                     -1.712247   \n1                                 0.235964                     -1.596214   \n2                                 0.226663                     -1.253914   \n3                                -0.054214                     -0.789779   \n4                                -0.039333                     -0.841994   \n..                                     ...                           ...   \n516                              -2.137541                     -2.842126   \n517                              -2.137541                     -2.842126   \n518                              -2.152421                     -2.898693   \n519                              -1.996172                     -2.675328   \n520                              -2.034304                     -2.713039   \n\n     Tesco PLC_035966.txt  TUI AG_02821N.txt  Unilever PLC_035922.txt  \\\n0                0.012647          -0.987098                -2.869013   \n1               -0.013695          -1.006700                -2.931364   \n2               -0.038155          -0.967495                -2.886828   \n3               -0.280875          -0.947893                -2.845854   \n4               -0.263941          -0.977297                -2.863669   \n..                    ...                ...                      ...   \n516             -0.621435          -1.151267                 0.237849   \n517             -0.621435          -1.151267                 0.237849   \n518             -0.638369          -1.325238                -0.063217   \n519             -0.542410          -1.180671                 0.097114   \n520             -0.617672          -1.170870                 0.038326   \n\n     United Utilities Group PLC_036341.txt  Vodafone Group PLC_035943.txt  \\\n0                                 0.733771                      -0.007477   \n1                                 0.710001                       0.100982   \n2                                 0.638689                       0.241340   \n3                                 0.724263                       0.400838   \n4                                 0.695738                       0.481651   \n..                                     ...                            ...   \n516                              -0.878827                      -1.936340   \n517                              -0.878827                      -1.936340   \n518                              -1.002434                      -2.063088   \n519                              -0.802761                      -1.932938   \n520                              -0.833187                      -2.004393   \n\n     Whitbread PLC_035895.txt  WPP PLC_035947.txt  \n0                   -0.898946            1.592327  \n1                   -0.881773            1.624480  \n2                   -0.713477            1.578037  \n3                   -0.469618            1.642343  \n4                   -0.332233            1.678069  \n..                        ...                 ...  \n516                  1.656414           -1.858805  \n517                  1.656414           -1.858805  \n518                  1.501856           -1.929542  \n519                  1.766322           -1.848087  \n520                  1.859057           -1.870951  \n\n[521 rows x 97 columns]",
      "text/html": "<div>\n<style scoped>\n    .dataframe tbody tr th:only-of-type {\n        vertical-align: middle;\n    }\n\n    .dataframe tbody tr th {\n        vertical-align: top;\n    }\n\n    .dataframe thead th {\n        text-align: right;\n    }\n</style>\n<table border=\"1\" class=\"dataframe\">\n  <thead>\n    <tr style=\"text-align: right;\">\n      <th></th>\n      <th>time</th>\n      <th>3i Group PLC_035999.txt</th>\n      <th>Admiral Group_036346.txt</th>\n      <th>Anglo American PLC_035918.txt</th>\n      <th>Antofagasta PLC_028149.txt</th>\n      <th>Ashtead Group_028090.txt</th>\n      <th>Associated British Foods PLC_035919.txt</th>\n      <th>Astrazeneca PLC_035998.txt</th>\n      <th>Aviva PLC_035907.txt</th>\n      <th>Barclays PLC_035976.txt</th>\n      <th>...</th>\n      <th>Standard Chartered PLC_035959.txt</th>\n      <th>Standard Life Aberdeen Plc_036365.txt</th>\n      <th>Taylor Wimpey PLC_036366.txt</th>\n      <th>Tesco PLC_035966.txt</th>\n      <th>TUI AG_02821N.txt</th>\n      <th>Unilever PLC_035922.txt</th>\n      <th>United Utilities Group PLC_036341.txt</th>\n      <th>Vodafone Group PLC_035943.txt</th>\n      <th>Whitbread PLC_035895.txt</th>\n      <th>WPP PLC_035947.txt</th>\n    </tr>\n  </thead>\n  <tbody>\n    <tr>\n      <th>0</th>\n      <td>2017-01-02</td>\n      <td>-2.152305</td>\n      <td>-1.347635</td>\n      <td>-1.294240</td>\n      <td>-2.295047</td>\n      <td>-1.199292</td>\n      <td>0.108603</td>\n      <td>-1.456547</td>\n      <td>-0.317386</td>\n      <td>1.288425</td>\n      <td>...</td>\n      <td>-0.841939</td>\n      <td>0.109476</td>\n      <td>-1.712247</td>\n      <td>0.012647</td>\n      <td>-0.987098</td>\n      <td>-2.869013</td>\n      <td>0.733771</td>\n      <td>-0.007477</td>\n      <td>-0.898946</td>\n      <td>1.592327</td>\n    </tr>\n    <tr>\n      <th>1</th>\n      <td>2017-01-03</td>\n      <td>-2.053810</td>\n      <td>-1.189826</td>\n      <td>-1.286110</td>\n      <td>-2.136391</td>\n      <td>-1.136860</td>\n      <td>-0.002687</td>\n      <td>-1.453486</td>\n      <td>-0.134716</td>\n      <td>1.719911</td>\n      <td>...</td>\n      <td>-0.641924</td>\n      <td>0.235964</td>\n      <td>-1.596214</td>\n      <td>-0.013695</td>\n      <td>-1.006700</td>\n      <td>-2.931364</td>\n      <td>0.710001</td>\n      <td>0.100982</td>\n      <td>-0.881773</td>\n      <td>1.624480</td>\n    </tr>\n    <tr>\n      <th>2</th>\n      <td>2017-01-04</td>\n      <td>-1.992251</td>\n      <td>-1.325091</td>\n      <td>-1.365373</td>\n      <td>-2.120526</td>\n      <td>-1.155222</td>\n      <td>-0.333285</td>\n      <td>-1.376940</td>\n      <td>-0.145305</td>\n      <td>1.878207</td>\n      <td>...</td>\n      <td>-0.565862</td>\n      <td>0.226663</td>\n      <td>-1.253914</td>\n      <td>-0.038155</td>\n      <td>-0.967495</td>\n      <td>-2.886828</td>\n      <td>0.638689</td>\n      <td>0.241340</td>\n      <td>-0.713477</td>\n      <td>1.578037</td>\n    </tr>\n    <tr>\n      <th>3</th>\n      <td>2017-01-05</td>\n      <td>-1.924536</td>\n      <td>-1.336363</td>\n      <td>-1.355211</td>\n      <td>-2.035909</td>\n      <td>-1.122170</td>\n      <td>-0.087792</td>\n      <td>-1.226910</td>\n      <td>-0.222080</td>\n      <td>1.753102</td>\n      <td>...</td>\n      <td>-0.465855</td>\n      <td>-0.054214</td>\n      <td>-0.789779</td>\n      <td>-0.280875</td>\n      <td>-0.947893</td>\n      <td>-2.845854</td>\n      <td>0.724263</td>\n      <td>0.400838</td>\n      <td>-0.469618</td>\n      <td>1.642343</td>\n    </tr>\n    <tr>\n      <th>4</th>\n      <td>2017-01-06</td>\n      <td>-1.912224</td>\n      <td>-1.313819</td>\n      <td>-1.395858</td>\n      <td>-2.094083</td>\n      <td>-1.155222</td>\n      <td>-0.185989</td>\n      <td>-1.225889</td>\n      <td>-0.237964</td>\n      <td>1.890973</td>\n      <td>...</td>\n      <td>-0.389793</td>\n      <td>-0.039333</td>\n      <td>-0.841994</td>\n      <td>-0.263941</td>\n      <td>-0.977297</td>\n      <td>-2.863669</td>\n      <td>0.695738</td>\n      <td>0.481651</td>\n      <td>-0.332233</td>\n      <td>1.678069</td>\n    </tr>\n    <tr>\n      <th>...</th>\n      <td>...</td>\n      <td>...</td>\n      <td>...</td>\n      <td>...</td>\n      <td>...</td>\n      <td>...</td>\n      <td>...</td>\n      <td>...</td>\n      <td>...</td>\n      <td>...</td>\n      <td>...</td>\n      <td>...</td>\n      <td>...</td>\n      <td>...</td>\n      <td>...</td>\n      <td>...</td>\n      <td>...</td>\n      <td>...</td>\n      <td>...</td>\n      <td>...</td>\n      <td>...</td>\n    </tr>\n    <tr>\n      <th>516</th>\n      <td>2018-12-25</td>\n      <td>-1.509627</td>\n      <td>0.405175</td>\n      <td>1.060066</td>\n      <td>-1.271187</td>\n      <td>-0.967925</td>\n      <td>-2.068105</td>\n      <td>1.653256</td>\n      <td>-3.340717</td>\n      <td>-2.628650</td>\n      <td>...</td>\n      <td>-1.847647</td>\n      <td>-2.137541</td>\n      <td>-2.842126</td>\n      <td>-0.621435</td>\n      <td>-1.151267</td>\n      <td>0.237849</td>\n      <td>-0.878827</td>\n      <td>-1.936340</td>\n      <td>1.656414</td>\n      <td>-1.858805</td>\n    </tr>\n    <tr>\n      <th>517</th>\n      <td>2018-12-26</td>\n      <td>-1.509627</td>\n      <td>0.405175</td>\n      <td>1.060066</td>\n      <td>-1.271187</td>\n      <td>-0.967925</td>\n      <td>-2.068105</td>\n      <td>1.653256</td>\n      <td>-3.340717</td>\n      <td>-2.628650</td>\n      <td>...</td>\n      <td>-1.847647</td>\n      <td>-2.137541</td>\n      <td>-2.842126</td>\n      <td>-0.621435</td>\n      <td>-1.151267</td>\n      <td>0.237849</td>\n      <td>-0.878827</td>\n      <td>-1.936340</td>\n      <td>1.656414</td>\n      <td>-1.858805</td>\n    </tr>\n    <tr>\n      <th>518</th>\n      <td>2018-12-27</td>\n      <td>-1.310175</td>\n      <td>0.433355</td>\n      <td>0.958448</td>\n      <td>-1.406574</td>\n      <td>-1.175421</td>\n      <td>-2.195762</td>\n      <td>1.161321</td>\n      <td>-3.541919</td>\n      <td>-2.662352</td>\n      <td>...</td>\n      <td>-1.995545</td>\n      <td>-2.152421</td>\n      <td>-2.898693</td>\n      <td>-0.638369</td>\n      <td>-1.325238</td>\n      <td>-0.063217</td>\n      <td>-1.002434</td>\n      <td>-2.063088</td>\n      <td>1.501856</td>\n      <td>-1.929542</td>\n    </tr>\n    <tr>\n      <th>519</th>\n      <td>2018-12-28</td>\n      <td>-1.027002</td>\n      <td>0.861694</td>\n      <td>1.121038</td>\n      <td>-1.173878</td>\n      <td>-0.978943</td>\n      <td>-2.100838</td>\n      <td>1.434845</td>\n      <td>-3.224231</td>\n      <td>-2.455035</td>\n      <td>...</td>\n      <td>-1.723694</td>\n      <td>-1.996172</td>\n      <td>-2.675328</td>\n      <td>-0.542410</td>\n      <td>-1.180671</td>\n      <td>0.097114</td>\n      <td>-0.802761</td>\n      <td>-1.932938</td>\n      <td>1.766322</td>\n      <td>-1.848087</td>\n    </tr>\n    <tr>\n      <th>520</th>\n      <td>2018-12-31</td>\n      <td>-1.297863</td>\n      <td>1.132225</td>\n      <td>1.095023</td>\n      <td>-1.150609</td>\n      <td>-0.989960</td>\n      <td>-2.189215</td>\n      <td>1.473629</td>\n      <td>-3.253352</td>\n      <td>-2.435631</td>\n      <td>...</td>\n      <td>-1.606784</td>\n      <td>-2.034304</td>\n      <td>-2.713039</td>\n      <td>-0.617672</td>\n      <td>-1.170870</td>\n      <td>0.038326</td>\n      <td>-0.833187</td>\n      <td>-2.004393</td>\n      <td>1.859057</td>\n      <td>-1.870951</td>\n    </tr>\n  </tbody>\n</table>\n<p>521 rows × 97 columns</p>\n</div>"
     },
     "execution_count": 20,
     "metadata": {},
     "output_type": "execute_result"
    }
   ],
   "source": [
    "df_scaled, scaler = tsi.dataframe_scaler(df_input=df_input, \n",
    "                                 time_column=time_column, \n",
    "                                 header=header, \n",
    "                                 sep=sep, \n",
    "                                 preprocessing=preprocessing, \n",
    "                                 index=index)\n",
    "\n",
    "df_scaled"
   ],
   "metadata": {
    "collapsed": false,
    "ExecuteTime": {
     "end_time": "2024-08-07T13:34:33.511713Z",
     "start_time": "2024-08-07T13:34:33.490875Z"
    }
   },
   "id": "b5f33d6fe30d0cc0",
   "execution_count": 20
  },
  {
   "cell_type": "markdown",
   "source": [
    "## Gap Generation"
   ],
   "metadata": {
    "collapsed": false
   },
   "id": "deb58fa26858ef5a"
  },
  {
   "cell_type": "code",
   "outputs": [],
   "source": [
    "parameters = {\n",
    "    'time_column' : 'time',\n",
    "    'sep' : ',',\n",
    "    'header' : 0,\n",
    "    'preprocessing': False,\n",
    "    'index': False,\n",
    "    'train_params': {\n",
    "        \"gap_type\": \"random\",\n",
    "        \"miss_perc\": 0.1,\n",
    "        \"gap_length\": 10,\n",
    "        \"max_gap_length\": 10,\n",
    "        \"max_gap_count\": 5,\n",
    "        \"random_seed\": 1\n",
    "    }\n",
    "}\n",
    "\n",
    "\n",
    "\n",
    "time_column = parameters['time_column']\n",
    "header = parameters['header']\n",
    "sep = parameters['sep']\n",
    "preprocessing = parameters['preprocessing']\n",
    "index = parameters['index']\n",
    "train_params = parameters['train_params']"
   ],
   "metadata": {
    "collapsed": false,
    "ExecuteTime": {
     "end_time": "2024-08-07T13:34:33.516704Z",
     "start_time": "2024-08-07T13:34:33.513496Z"
    }
   },
   "id": "88fa2ad58b835c1e",
   "execution_count": 21
  },
  {
   "cell_type": "code",
   "outputs": [
    {
     "name": "stdout",
     "output_type": "stream",
     "text": [
      "Missing values count: 1636\n"
     ]
    },
    {
     "data": {
      "text/plain": "           time  3i Group PLC_035999.txt  Admiral Group_036346.txt  \\\n0    2017-01-02                -2.152305                 -1.347635   \n1    2017-01-03                -2.053810                 -1.189826   \n2    2017-01-04                -1.992251                 -1.325091   \n3    2017-01-05                -1.924536                 -1.336363   \n4    2017-01-06                -1.912224                 -1.313819   \n..          ...                      ...                       ...   \n516  2018-12-25                -1.509627                  0.405175   \n517  2018-12-26                -1.509627                  0.405175   \n518  2018-12-27                -1.310175                  0.433355   \n519  2018-12-28                -1.027002                  0.861694   \n520  2018-12-31                -1.297863                  1.132225   \n\n     Anglo American PLC_035918.txt  Antofagasta PLC_028149.txt  \\\n0                        -1.294240                   -2.295047   \n1                        -1.286110                   -2.136391   \n2                        -1.365373                   -2.120526   \n3                        -1.355211                   -2.035909   \n4                        -1.395858                   -2.094083   \n..                             ...                         ...   \n516                       1.060066                   -1.271187   \n517                       1.060066                   -1.271187   \n518                       0.958448                   -1.406574   \n519                       1.121038                   -1.173878   \n520                       1.095023                   -1.150609   \n\n     Ashtead Group_028090.txt  Associated British Foods PLC_035919.txt  \\\n0                   -1.199292                                 0.108603   \n1                   -1.136860                                -0.002687   \n2                   -1.155222                                -0.333285   \n3                   -1.122170                                -0.087792   \n4                   -1.155222                                -0.185989   \n..                        ...                                      ...   \n516                 -0.967925                                -2.068105   \n517                 -0.967925                                -2.068105   \n518                 -1.175421                                -2.195762   \n519                 -0.978943                                -2.100838   \n520                 -0.989960                                -2.189215   \n\n     Astrazeneca PLC_035998.txt  Aviva PLC_035907.txt  \\\n0                     -1.456547             -0.317386   \n1                     -1.453486             -0.134716   \n2                     -1.376940             -0.145305   \n3                     -1.226910             -0.222080   \n4                     -1.225889             -0.237964   \n..                          ...                   ...   \n516                    1.653256             -3.340717   \n517                    1.653256             -3.340717   \n518                    1.161321             -3.541919   \n519                    1.434845             -3.224231   \n520                    1.473629             -3.253352   \n\n     Barclays PLC_035976.txt  ...  Standard Chartered PLC_035959.txt  \\\n0                   1.288425  ...                          -0.841939   \n1                   1.719911  ...                          -0.641924   \n2                   1.878207  ...                          -0.565862   \n3                        NaN  ...                          -0.465855   \n4                        NaN  ...                          -0.389793   \n..                       ...  ...                                ...   \n516                -2.628650  ...                          -1.847647   \n517                -2.628650  ...                          -1.847647   \n518                -2.662352  ...                          -1.995545   \n519                -2.455035  ...                          -1.723694   \n520                -2.435631  ...                          -1.606784   \n\n     Standard Life Aberdeen Plc_036365.txt  Taylor Wimpey PLC_036366.txt  \\\n0                                 0.109476                     -1.712247   \n1                                 0.235964                     -1.596214   \n2                                 0.226663                     -1.253914   \n3                                -0.054214                     -0.789779   \n4                                -0.039333                     -0.841994   \n..                                     ...                           ...   \n516                              -2.137541                     -2.842126   \n517                              -2.137541                     -2.842126   \n518                              -2.152421                     -2.898693   \n519                              -1.996172                     -2.675328   \n520                              -2.034304                     -2.713039   \n\n     Tesco PLC_035966.txt  TUI AG_02821N.txt  Unilever PLC_035922.txt  \\\n0                0.012647          -0.987098                -2.869013   \n1               -0.013695          -1.006700                -2.931364   \n2               -0.038155          -0.967495                -2.886828   \n3               -0.280875          -0.947893                -2.845854   \n4               -0.263941          -0.977297                -2.863669   \n..                    ...                ...                      ...   \n516             -0.621435          -1.151267                 0.237849   \n517             -0.621435          -1.151267                 0.237849   \n518             -0.638369          -1.325238                -0.063217   \n519             -0.542410          -1.180671                 0.097114   \n520             -0.617672          -1.170870                 0.038326   \n\n     United Utilities Group PLC_036341.txt  Vodafone Group PLC_035943.txt  \\\n0                                 0.733771                      -0.007477   \n1                                 0.710001                       0.100982   \n2                                 0.638689                       0.241340   \n3                                 0.724263                       0.400838   \n4                                 0.695738                       0.481651   \n..                                     ...                            ...   \n516                              -0.878827                      -1.936340   \n517                              -0.878827                      -1.936340   \n518                              -1.002434                      -2.063088   \n519                              -0.802761                      -1.932938   \n520                              -0.833187                      -2.004393   \n\n     Whitbread PLC_035895.txt  WPP PLC_035947.txt  \n0                   -0.898946            1.592327  \n1                   -0.881773            1.624480  \n2                   -0.713477            1.578037  \n3                   -0.469618            1.642343  \n4                   -0.332233            1.678069  \n..                        ...                 ...  \n516                  1.656414           -1.858805  \n517                  1.656414           -1.858805  \n518                  1.501856           -1.929542  \n519                  1.766322           -1.848087  \n520                  1.859057           -1.870951  \n\n[521 rows x 97 columns]",
      "text/html": "<div>\n<style scoped>\n    .dataframe tbody tr th:only-of-type {\n        vertical-align: middle;\n    }\n\n    .dataframe tbody tr th {\n        vertical-align: top;\n    }\n\n    .dataframe thead th {\n        text-align: right;\n    }\n</style>\n<table border=\"1\" class=\"dataframe\">\n  <thead>\n    <tr style=\"text-align: right;\">\n      <th></th>\n      <th>time</th>\n      <th>3i Group PLC_035999.txt</th>\n      <th>Admiral Group_036346.txt</th>\n      <th>Anglo American PLC_035918.txt</th>\n      <th>Antofagasta PLC_028149.txt</th>\n      <th>Ashtead Group_028090.txt</th>\n      <th>Associated British Foods PLC_035919.txt</th>\n      <th>Astrazeneca PLC_035998.txt</th>\n      <th>Aviva PLC_035907.txt</th>\n      <th>Barclays PLC_035976.txt</th>\n      <th>...</th>\n      <th>Standard Chartered PLC_035959.txt</th>\n      <th>Standard Life Aberdeen Plc_036365.txt</th>\n      <th>Taylor Wimpey PLC_036366.txt</th>\n      <th>Tesco PLC_035966.txt</th>\n      <th>TUI AG_02821N.txt</th>\n      <th>Unilever PLC_035922.txt</th>\n      <th>United Utilities Group PLC_036341.txt</th>\n      <th>Vodafone Group PLC_035943.txt</th>\n      <th>Whitbread PLC_035895.txt</th>\n      <th>WPP PLC_035947.txt</th>\n    </tr>\n  </thead>\n  <tbody>\n    <tr>\n      <th>0</th>\n      <td>2017-01-02</td>\n      <td>-2.152305</td>\n      <td>-1.347635</td>\n      <td>-1.294240</td>\n      <td>-2.295047</td>\n      <td>-1.199292</td>\n      <td>0.108603</td>\n      <td>-1.456547</td>\n      <td>-0.317386</td>\n      <td>1.288425</td>\n      <td>...</td>\n      <td>-0.841939</td>\n      <td>0.109476</td>\n      <td>-1.712247</td>\n      <td>0.012647</td>\n      <td>-0.987098</td>\n      <td>-2.869013</td>\n      <td>0.733771</td>\n      <td>-0.007477</td>\n      <td>-0.898946</td>\n      <td>1.592327</td>\n    </tr>\n    <tr>\n      <th>1</th>\n      <td>2017-01-03</td>\n      <td>-2.053810</td>\n      <td>-1.189826</td>\n      <td>-1.286110</td>\n      <td>-2.136391</td>\n      <td>-1.136860</td>\n      <td>-0.002687</td>\n      <td>-1.453486</td>\n      <td>-0.134716</td>\n      <td>1.719911</td>\n      <td>...</td>\n      <td>-0.641924</td>\n      <td>0.235964</td>\n      <td>-1.596214</td>\n      <td>-0.013695</td>\n      <td>-1.006700</td>\n      <td>-2.931364</td>\n      <td>0.710001</td>\n      <td>0.100982</td>\n      <td>-0.881773</td>\n      <td>1.624480</td>\n    </tr>\n    <tr>\n      <th>2</th>\n      <td>2017-01-04</td>\n      <td>-1.992251</td>\n      <td>-1.325091</td>\n      <td>-1.365373</td>\n      <td>-2.120526</td>\n      <td>-1.155222</td>\n      <td>-0.333285</td>\n      <td>-1.376940</td>\n      <td>-0.145305</td>\n      <td>1.878207</td>\n      <td>...</td>\n      <td>-0.565862</td>\n      <td>0.226663</td>\n      <td>-1.253914</td>\n      <td>-0.038155</td>\n      <td>-0.967495</td>\n      <td>-2.886828</td>\n      <td>0.638689</td>\n      <td>0.241340</td>\n      <td>-0.713477</td>\n      <td>1.578037</td>\n    </tr>\n    <tr>\n      <th>3</th>\n      <td>2017-01-05</td>\n      <td>-1.924536</td>\n      <td>-1.336363</td>\n      <td>-1.355211</td>\n      <td>-2.035909</td>\n      <td>-1.122170</td>\n      <td>-0.087792</td>\n      <td>-1.226910</td>\n      <td>-0.222080</td>\n      <td>NaN</td>\n      <td>...</td>\n      <td>-0.465855</td>\n      <td>-0.054214</td>\n      <td>-0.789779</td>\n      <td>-0.280875</td>\n      <td>-0.947893</td>\n      <td>-2.845854</td>\n      <td>0.724263</td>\n      <td>0.400838</td>\n      <td>-0.469618</td>\n      <td>1.642343</td>\n    </tr>\n    <tr>\n      <th>4</th>\n      <td>2017-01-06</td>\n      <td>-1.912224</td>\n      <td>-1.313819</td>\n      <td>-1.395858</td>\n      <td>-2.094083</td>\n      <td>-1.155222</td>\n      <td>-0.185989</td>\n      <td>-1.225889</td>\n      <td>-0.237964</td>\n      <td>NaN</td>\n      <td>...</td>\n      <td>-0.389793</td>\n      <td>-0.039333</td>\n      <td>-0.841994</td>\n      <td>-0.263941</td>\n      <td>-0.977297</td>\n      <td>-2.863669</td>\n      <td>0.695738</td>\n      <td>0.481651</td>\n      <td>-0.332233</td>\n      <td>1.678069</td>\n    </tr>\n    <tr>\n      <th>...</th>\n      <td>...</td>\n      <td>...</td>\n      <td>...</td>\n      <td>...</td>\n      <td>...</td>\n      <td>...</td>\n      <td>...</td>\n      <td>...</td>\n      <td>...</td>\n      <td>...</td>\n      <td>...</td>\n      <td>...</td>\n      <td>...</td>\n      <td>...</td>\n      <td>...</td>\n      <td>...</td>\n      <td>...</td>\n      <td>...</td>\n      <td>...</td>\n      <td>...</td>\n      <td>...</td>\n    </tr>\n    <tr>\n      <th>516</th>\n      <td>2018-12-25</td>\n      <td>-1.509627</td>\n      <td>0.405175</td>\n      <td>1.060066</td>\n      <td>-1.271187</td>\n      <td>-0.967925</td>\n      <td>-2.068105</td>\n      <td>1.653256</td>\n      <td>-3.340717</td>\n      <td>-2.628650</td>\n      <td>...</td>\n      <td>-1.847647</td>\n      <td>-2.137541</td>\n      <td>-2.842126</td>\n      <td>-0.621435</td>\n      <td>-1.151267</td>\n      <td>0.237849</td>\n      <td>-0.878827</td>\n      <td>-1.936340</td>\n      <td>1.656414</td>\n      <td>-1.858805</td>\n    </tr>\n    <tr>\n      <th>517</th>\n      <td>2018-12-26</td>\n      <td>-1.509627</td>\n      <td>0.405175</td>\n      <td>1.060066</td>\n      <td>-1.271187</td>\n      <td>-0.967925</td>\n      <td>-2.068105</td>\n      <td>1.653256</td>\n      <td>-3.340717</td>\n      <td>-2.628650</td>\n      <td>...</td>\n      <td>-1.847647</td>\n      <td>-2.137541</td>\n      <td>-2.842126</td>\n      <td>-0.621435</td>\n      <td>-1.151267</td>\n      <td>0.237849</td>\n      <td>-0.878827</td>\n      <td>-1.936340</td>\n      <td>1.656414</td>\n      <td>-1.858805</td>\n    </tr>\n    <tr>\n      <th>518</th>\n      <td>2018-12-27</td>\n      <td>-1.310175</td>\n      <td>0.433355</td>\n      <td>0.958448</td>\n      <td>-1.406574</td>\n      <td>-1.175421</td>\n      <td>-2.195762</td>\n      <td>1.161321</td>\n      <td>-3.541919</td>\n      <td>-2.662352</td>\n      <td>...</td>\n      <td>-1.995545</td>\n      <td>-2.152421</td>\n      <td>-2.898693</td>\n      <td>-0.638369</td>\n      <td>-1.325238</td>\n      <td>-0.063217</td>\n      <td>-1.002434</td>\n      <td>-2.063088</td>\n      <td>1.501856</td>\n      <td>-1.929542</td>\n    </tr>\n    <tr>\n      <th>519</th>\n      <td>2018-12-28</td>\n      <td>-1.027002</td>\n      <td>0.861694</td>\n      <td>1.121038</td>\n      <td>-1.173878</td>\n      <td>-0.978943</td>\n      <td>-2.100838</td>\n      <td>1.434845</td>\n      <td>-3.224231</td>\n      <td>-2.455035</td>\n      <td>...</td>\n      <td>-1.723694</td>\n      <td>-1.996172</td>\n      <td>-2.675328</td>\n      <td>-0.542410</td>\n      <td>-1.180671</td>\n      <td>0.097114</td>\n      <td>-0.802761</td>\n      <td>-1.932938</td>\n      <td>1.766322</td>\n      <td>-1.848087</td>\n    </tr>\n    <tr>\n      <th>520</th>\n      <td>2018-12-31</td>\n      <td>-1.297863</td>\n      <td>1.132225</td>\n      <td>1.095023</td>\n      <td>-1.150609</td>\n      <td>-0.989960</td>\n      <td>-2.189215</td>\n      <td>1.473629</td>\n      <td>-3.253352</td>\n      <td>-2.435631</td>\n      <td>...</td>\n      <td>-1.606784</td>\n      <td>-2.034304</td>\n      <td>-2.713039</td>\n      <td>-0.617672</td>\n      <td>-1.170870</td>\n      <td>0.038326</td>\n      <td>-0.833187</td>\n      <td>-2.004393</td>\n      <td>1.859057</td>\n      <td>-1.870951</td>\n    </tr>\n  </tbody>\n</table>\n<p>521 rows × 97 columns</p>\n</div>"
     },
     "execution_count": 22,
     "metadata": {},
     "output_type": "execute_result"
    }
   ],
   "source": [
    "df_missing = tsi.run_gap_generation(ground_truth=df_scaled, \n",
    "                                    train_params=train_params, \n",
    "                                    time_column=time_column, \n",
    "                                    header=header, \n",
    "                                    sep=sep, \n",
    "                                    preprocessing=preprocessing, \n",
    "                                    index=index)\n",
    "\n",
    "missing = df_missing.isnull().sum().sum()\n",
    "print(f\"Missing values count: {missing}\")\n",
    "df_missing"
   ],
   "metadata": {
    "collapsed": false,
    "ExecuteTime": {
     "end_time": "2024-08-07T13:34:33.540269Z",
     "start_time": "2024-08-07T13:34:33.518595Z"
    }
   },
   "id": "658dfb14d4145728",
   "execution_count": 22
  },
  {
   "cell_type": "markdown",
   "source": [
    "## Imputation"
   ],
   "metadata": {
    "collapsed": false
   },
   "id": "c06dd72064d4e510"
  },
  {
   "cell_type": "code",
   "outputs": [],
   "source": [
    "parameters = {\n",
    "    'time_column' : 'time',\n",
    "    'sep' : ',',\n",
    "    'header' : 0,\n",
    "    'is_multivariate': False,\n",
    "    'areaVStime': 0,\n",
    "    'preprocessing': False,\n",
    "    'index': False,\n",
    "    \"algorithms\": [\"SoftImpute\", \"IterativeSVD\", \"SVT\", \"TimesNet\"],\n",
    "    \"params\": { \n",
    "        \"SoftImpute\": { \"max_rank\": 5 },\n",
    "        \"IterativeSVD\": { \"rank\": 3 }, \n",
    "        \"SVT\": { \"tauScale\": 0.7}, \n",
    "        \"TimesNet\":{ \n",
    "            \"n_layers\": 2, \"top_k\": 3, \n",
    "            \"d_model\":56, \"d_ffn\":56, \n",
    "            \"n_kernels\":1, \"dropout\":0.05, \n",
    "            \"apply_nonstationary_norm\": False,\n",
    "            \"batch_size\": 32,\n",
    "            \"epochs\":50,\n",
    "            \"num_workers\": 0,\n",
    "            \"patience\": 3,\n",
    "            \"lr\": 0.0003                                                        \n",
    "        }\n",
    "    }\n",
    "}\n",
    "\n",
    "time_column = parameters['time_column']\n",
    "header = parameters['header']\n",
    "sep = parameters['sep']\n",
    "is_multivariate = parameters['is_multivariate']\n",
    "areaVStime = parameters['areaVStime']\n",
    "preprocessing = parameters['preprocessing']\n",
    "index = parameters['index']\n",
    "algorithms = parameters['algorithms']\n",
    "params = parameters['params']"
   ],
   "metadata": {
    "collapsed": false,
    "ExecuteTime": {
     "end_time": "2024-08-07T13:34:33.548985Z",
     "start_time": "2024-08-07T13:34:33.541695Z"
    }
   },
   "id": "eab173986d693e6b",
   "execution_count": 23
  },
  {
   "cell_type": "code",
   "outputs": [
    {
     "name": "stderr",
     "output_type": "stream",
     "text": [
      "freeing copy memory @ 0x1aabd540\n",
      "freeing copy memory @ 0x1b0cf3a0\n",
      "freeing copy memory @ 0x1abe26a0\n",
      "2024-08-07 16:34:44 [INFO]: No given device, using default device: cuda\n",
      "2024-08-07 16:34:44 [WARNING]: ‼️ saving_path not given. Model files and tensorboard file will not be saved.\n",
      "2024-08-07 16:34:44 [INFO]: TimesNet initialized with the given hyperparameters, the number of trainable parameters: 13,217\n",
      "2024-08-07 16:34:44 [INFO]: Epoch 001 - training loss: 1.5729\n",
      "2024-08-07 16:34:44 [INFO]: Epoch 002 - training loss: 1.3376\n",
      "2024-08-07 16:34:44 [INFO]: Epoch 003 - training loss: 1.1034\n",
      "2024-08-07 16:34:44 [INFO]: Epoch 004 - training loss: 0.9613\n",
      "2024-08-07 16:34:44 [INFO]: Epoch 005 - training loss: 0.7888\n",
      "2024-08-07 16:34:44 [INFO]: Epoch 006 - training loss: 0.6678\n",
      "2024-08-07 16:34:44 [INFO]: Epoch 007 - training loss: 0.5827\n",
      "2024-08-07 16:34:44 [INFO]: Epoch 008 - training loss: 0.4907\n",
      "2024-08-07 16:34:44 [INFO]: Epoch 009 - training loss: 0.4129\n",
      "2024-08-07 16:34:44 [INFO]: Epoch 010 - training loss: 0.3653\n",
      "2024-08-07 16:34:44 [INFO]: Epoch 011 - training loss: 0.3322\n",
      "2024-08-07 16:34:44 [INFO]: Epoch 012 - training loss: 0.3114\n",
      "2024-08-07 16:34:44 [INFO]: Epoch 013 - training loss: 0.3080\n",
      "2024-08-07 16:34:44 [INFO]: Epoch 014 - training loss: 0.2995\n",
      "2024-08-07 16:34:44 [INFO]: Epoch 015 - training loss: 0.2848\n",
      "2024-08-07 16:34:44 [INFO]: Epoch 016 - training loss: 0.2811\n",
      "2024-08-07 16:34:45 [INFO]: Epoch 017 - training loss: 0.2696\n",
      "2024-08-07 16:34:45 [INFO]: Epoch 018 - training loss: 0.2860\n",
      "2024-08-07 16:34:45 [INFO]: Epoch 019 - training loss: 0.2520\n",
      "2024-08-07 16:34:45 [INFO]: Epoch 020 - training loss: 0.2481\n",
      "2024-08-07 16:34:45 [INFO]: Epoch 021 - training loss: 0.2530\n",
      "2024-08-07 16:34:45 [INFO]: Epoch 022 - training loss: 0.2536\n",
      "2024-08-07 16:34:45 [INFO]: Epoch 023 - training loss: 0.2459\n",
      "2024-08-07 16:34:45 [INFO]: Epoch 024 - training loss: 0.2375\n",
      "2024-08-07 16:34:45 [INFO]: Epoch 025 - training loss: 0.2270\n",
      "2024-08-07 16:34:45 [INFO]: Epoch 026 - training loss: 0.2301\n",
      "2024-08-07 16:34:45 [INFO]: Epoch 027 - training loss: 0.2381\n",
      "2024-08-07 16:34:45 [INFO]: Epoch 028 - training loss: 0.2325\n",
      "2024-08-07 16:34:45 [INFO]: Exceeded the training patience. Terminating the training procedure...\n",
      "2024-08-07 16:34:45 [INFO]: Finished training. The best model is from epoch#25.\n"
     ]
    }
   ],
   "source": [
    "dict_of_imputed_dfs = tsi.run_imputation(missing = df_missing, \n",
    "                                         algorithms=algorithms, \n",
    "                                         params=params, \n",
    "                                         time_column=time_column,\n",
    "                                         header=header, \n",
    "                                         sep=sep, \n",
    "                                         is_multivariate=is_multivariate, \n",
    "                                         areaVStime=areaVStime, \n",
    "                                         preprocessing=preprocessing, \n",
    "                                         index=index)"
   ],
   "metadata": {
    "collapsed": false,
    "ExecuteTime": {
     "end_time": "2024-08-07T13:34:45.460165Z",
     "start_time": "2024-08-07T13:34:33.550128Z"
    }
   },
   "id": "bf4f82d7f54c335f",
   "execution_count": 24
  },
  {
   "cell_type": "code",
   "outputs": [
    {
     "name": "stdout",
     "output_type": "stream",
     "text": [
      "Missing values count: 0\n"
     ]
    },
    {
     "data": {
      "text/plain": "           time  3i Group PLC_035999.txt  Admiral Group_036346.txt  \\\n0    2017-01-02                -2.152305                 -1.347635   \n1    2017-01-03                -2.053810                 -1.189826   \n2    2017-01-04                -1.992251                 -1.325091   \n3    2017-01-05                -1.924536                 -1.336363   \n4    2017-01-06                -1.912224                 -1.313819   \n..          ...                      ...                       ...   \n516  2018-12-25                -1.509627                  0.405175   \n517  2018-12-26                -1.509627                  0.405175   \n518  2018-12-27                -1.310175                  0.433355   \n519  2018-12-28                -1.027002                  0.861694   \n520  2018-12-31                -1.297863                  1.132225   \n\n     Anglo American PLC_035918.txt  Antofagasta PLC_028149.txt  \\\n0                        -1.294240                   -2.295047   \n1                        -1.286110                   -2.136391   \n2                        -1.365373                   -2.120526   \n3                        -1.355211                   -2.035909   \n4                        -1.395858                   -2.094083   \n..                             ...                         ...   \n516                       1.060066                   -1.271187   \n517                       1.060066                   -1.271187   \n518                       0.958448                   -1.406574   \n519                       1.121038                   -1.173878   \n520                       1.095023                   -1.150609   \n\n     Ashtead Group_028090.txt  Associated British Foods PLC_035919.txt  \\\n0                   -1.199292                                 0.108603   \n1                   -1.136860                                -0.002687   \n2                   -1.155222                                -0.333285   \n3                   -1.122170                                -0.087792   \n4                   -1.155222                                -0.185989   \n..                        ...                                      ...   \n516                 -0.967925                                -2.068105   \n517                 -0.967925                                -2.068105   \n518                 -1.175421                                -2.195762   \n519                 -0.978943                                -2.100838   \n520                 -0.989960                                -2.189215   \n\n     Astrazeneca PLC_035998.txt  Aviva PLC_035907.txt  \\\n0                     -1.456547             -0.317386   \n1                     -1.453486             -0.134716   \n2                     -1.376940             -0.145305   \n3                     -1.226910             -0.222080   \n4                     -1.225889             -0.237964   \n..                          ...                   ...   \n516                    1.653256             -3.340717   \n517                    1.653256             -3.340717   \n518                    1.161321             -3.541919   \n519                    1.434845             -3.224231   \n520                    1.473629             -3.253352   \n\n     Barclays PLC_035976.txt  ...  Standard Chartered PLC_035959.txt  \\\n0                   1.288425  ...                          -0.841939   \n1                   1.719911  ...                          -0.641924   \n2                   1.878207  ...                          -0.565862   \n3                   1.592407  ...                          -0.465855   \n4                   1.723929  ...                          -0.389793   \n..                       ...  ...                                ...   \n516                -2.628650  ...                          -1.847647   \n517                -2.628650  ...                          -1.847647   \n518                -2.662352  ...                          -1.995545   \n519                -2.455035  ...                          -1.723694   \n520                -2.435631  ...                          -1.606784   \n\n     Standard Life Aberdeen Plc_036365.txt  Taylor Wimpey PLC_036366.txt  \\\n0                                 0.109476                     -1.712247   \n1                                 0.235964                     -1.596214   \n2                                 0.226663                     -1.253914   \n3                                -0.054214                     -0.789779   \n4                                -0.039333                     -0.841994   \n..                                     ...                           ...   \n516                              -2.137541                     -2.842126   \n517                              -2.137541                     -2.842126   \n518                              -2.152421                     -2.898693   \n519                              -1.996172                     -2.675328   \n520                              -2.034304                     -2.713039   \n\n     Tesco PLC_035966.txt  TUI AG_02821N.txt  Unilever PLC_035922.txt  \\\n0                0.012647          -0.987098                -2.869013   \n1               -0.013695          -1.006700                -2.931364   \n2               -0.038155          -0.967495                -2.886828   \n3               -0.280875          -0.947893                -2.845854   \n4               -0.263941          -0.977297                -2.863669   \n..                    ...                ...                      ...   \n516             -0.621435          -1.151267                 0.237849   \n517             -0.621435          -1.151267                 0.237849   \n518             -0.638369          -1.325238                -0.063217   \n519             -0.542410          -1.180671                 0.097114   \n520             -0.617672          -1.170870                 0.038326   \n\n     United Utilities Group PLC_036341.txt  Vodafone Group PLC_035943.txt  \\\n0                                 0.733771                      -0.007477   \n1                                 0.710001                       0.100982   \n2                                 0.638689                       0.241340   \n3                                 0.724263                       0.400838   \n4                                 0.695738                       0.481651   \n..                                     ...                            ...   \n516                              -0.878827                      -1.936340   \n517                              -0.878827                      -1.936340   \n518                              -1.002434                      -2.063088   \n519                              -0.802761                      -1.932938   \n520                              -0.833187                      -2.004393   \n\n     Whitbread PLC_035895.txt  WPP PLC_035947.txt  \n0                   -0.898946            1.592327  \n1                   -0.881773            1.624480  \n2                   -0.713477            1.578037  \n3                   -0.469618            1.642343  \n4                   -0.332233            1.678069  \n..                        ...                 ...  \n516                  1.656414           -1.858805  \n517                  1.656414           -1.858805  \n518                  1.501856           -1.929542  \n519                  1.766322           -1.848087  \n520                  1.859057           -1.870951  \n\n[521 rows x 97 columns]",
      "text/html": "<div>\n<style scoped>\n    .dataframe tbody tr th:only-of-type {\n        vertical-align: middle;\n    }\n\n    .dataframe tbody tr th {\n        vertical-align: top;\n    }\n\n    .dataframe thead th {\n        text-align: right;\n    }\n</style>\n<table border=\"1\" class=\"dataframe\">\n  <thead>\n    <tr style=\"text-align: right;\">\n      <th></th>\n      <th>time</th>\n      <th>3i Group PLC_035999.txt</th>\n      <th>Admiral Group_036346.txt</th>\n      <th>Anglo American PLC_035918.txt</th>\n      <th>Antofagasta PLC_028149.txt</th>\n      <th>Ashtead Group_028090.txt</th>\n      <th>Associated British Foods PLC_035919.txt</th>\n      <th>Astrazeneca PLC_035998.txt</th>\n      <th>Aviva PLC_035907.txt</th>\n      <th>Barclays PLC_035976.txt</th>\n      <th>...</th>\n      <th>Standard Chartered PLC_035959.txt</th>\n      <th>Standard Life Aberdeen Plc_036365.txt</th>\n      <th>Taylor Wimpey PLC_036366.txt</th>\n      <th>Tesco PLC_035966.txt</th>\n      <th>TUI AG_02821N.txt</th>\n      <th>Unilever PLC_035922.txt</th>\n      <th>United Utilities Group PLC_036341.txt</th>\n      <th>Vodafone Group PLC_035943.txt</th>\n      <th>Whitbread PLC_035895.txt</th>\n      <th>WPP PLC_035947.txt</th>\n    </tr>\n  </thead>\n  <tbody>\n    <tr>\n      <th>0</th>\n      <td>2017-01-02</td>\n      <td>-2.152305</td>\n      <td>-1.347635</td>\n      <td>-1.294240</td>\n      <td>-2.295047</td>\n      <td>-1.199292</td>\n      <td>0.108603</td>\n      <td>-1.456547</td>\n      <td>-0.317386</td>\n      <td>1.288425</td>\n      <td>...</td>\n      <td>-0.841939</td>\n      <td>0.109476</td>\n      <td>-1.712247</td>\n      <td>0.012647</td>\n      <td>-0.987098</td>\n      <td>-2.869013</td>\n      <td>0.733771</td>\n      <td>-0.007477</td>\n      <td>-0.898946</td>\n      <td>1.592327</td>\n    </tr>\n    <tr>\n      <th>1</th>\n      <td>2017-01-03</td>\n      <td>-2.053810</td>\n      <td>-1.189826</td>\n      <td>-1.286110</td>\n      <td>-2.136391</td>\n      <td>-1.136860</td>\n      <td>-0.002687</td>\n      <td>-1.453486</td>\n      <td>-0.134716</td>\n      <td>1.719911</td>\n      <td>...</td>\n      <td>-0.641924</td>\n      <td>0.235964</td>\n      <td>-1.596214</td>\n      <td>-0.013695</td>\n      <td>-1.006700</td>\n      <td>-2.931364</td>\n      <td>0.710001</td>\n      <td>0.100982</td>\n      <td>-0.881773</td>\n      <td>1.624480</td>\n    </tr>\n    <tr>\n      <th>2</th>\n      <td>2017-01-04</td>\n      <td>-1.992251</td>\n      <td>-1.325091</td>\n      <td>-1.365373</td>\n      <td>-2.120526</td>\n      <td>-1.155222</td>\n      <td>-0.333285</td>\n      <td>-1.376940</td>\n      <td>-0.145305</td>\n      <td>1.878207</td>\n      <td>...</td>\n      <td>-0.565862</td>\n      <td>0.226663</td>\n      <td>-1.253914</td>\n      <td>-0.038155</td>\n      <td>-0.967495</td>\n      <td>-2.886828</td>\n      <td>0.638689</td>\n      <td>0.241340</td>\n      <td>-0.713477</td>\n      <td>1.578037</td>\n    </tr>\n    <tr>\n      <th>3</th>\n      <td>2017-01-05</td>\n      <td>-1.924536</td>\n      <td>-1.336363</td>\n      <td>-1.355211</td>\n      <td>-2.035909</td>\n      <td>-1.122170</td>\n      <td>-0.087792</td>\n      <td>-1.226910</td>\n      <td>-0.222080</td>\n      <td>1.592407</td>\n      <td>...</td>\n      <td>-0.465855</td>\n      <td>-0.054214</td>\n      <td>-0.789779</td>\n      <td>-0.280875</td>\n      <td>-0.947893</td>\n      <td>-2.845854</td>\n      <td>0.724263</td>\n      <td>0.400838</td>\n      <td>-0.469618</td>\n      <td>1.642343</td>\n    </tr>\n    <tr>\n      <th>4</th>\n      <td>2017-01-06</td>\n      <td>-1.912224</td>\n      <td>-1.313819</td>\n      <td>-1.395858</td>\n      <td>-2.094083</td>\n      <td>-1.155222</td>\n      <td>-0.185989</td>\n      <td>-1.225889</td>\n      <td>-0.237964</td>\n      <td>1.723929</td>\n      <td>...</td>\n      <td>-0.389793</td>\n      <td>-0.039333</td>\n      <td>-0.841994</td>\n      <td>-0.263941</td>\n      <td>-0.977297</td>\n      <td>-2.863669</td>\n      <td>0.695738</td>\n      <td>0.481651</td>\n      <td>-0.332233</td>\n      <td>1.678069</td>\n    </tr>\n    <tr>\n      <th>...</th>\n      <td>...</td>\n      <td>...</td>\n      <td>...</td>\n      <td>...</td>\n      <td>...</td>\n      <td>...</td>\n      <td>...</td>\n      <td>...</td>\n      <td>...</td>\n      <td>...</td>\n      <td>...</td>\n      <td>...</td>\n      <td>...</td>\n      <td>...</td>\n      <td>...</td>\n      <td>...</td>\n      <td>...</td>\n      <td>...</td>\n      <td>...</td>\n      <td>...</td>\n      <td>...</td>\n    </tr>\n    <tr>\n      <th>516</th>\n      <td>2018-12-25</td>\n      <td>-1.509627</td>\n      <td>0.405175</td>\n      <td>1.060066</td>\n      <td>-1.271187</td>\n      <td>-0.967925</td>\n      <td>-2.068105</td>\n      <td>1.653256</td>\n      <td>-3.340717</td>\n      <td>-2.628650</td>\n      <td>...</td>\n      <td>-1.847647</td>\n      <td>-2.137541</td>\n      <td>-2.842126</td>\n      <td>-0.621435</td>\n      <td>-1.151267</td>\n      <td>0.237849</td>\n      <td>-0.878827</td>\n      <td>-1.936340</td>\n      <td>1.656414</td>\n      <td>-1.858805</td>\n    </tr>\n    <tr>\n      <th>517</th>\n      <td>2018-12-26</td>\n      <td>-1.509627</td>\n      <td>0.405175</td>\n      <td>1.060066</td>\n      <td>-1.271187</td>\n      <td>-0.967925</td>\n      <td>-2.068105</td>\n      <td>1.653256</td>\n      <td>-3.340717</td>\n      <td>-2.628650</td>\n      <td>...</td>\n      <td>-1.847647</td>\n      <td>-2.137541</td>\n      <td>-2.842126</td>\n      <td>-0.621435</td>\n      <td>-1.151267</td>\n      <td>0.237849</td>\n      <td>-0.878827</td>\n      <td>-1.936340</td>\n      <td>1.656414</td>\n      <td>-1.858805</td>\n    </tr>\n    <tr>\n      <th>518</th>\n      <td>2018-12-27</td>\n      <td>-1.310175</td>\n      <td>0.433355</td>\n      <td>0.958448</td>\n      <td>-1.406574</td>\n      <td>-1.175421</td>\n      <td>-2.195762</td>\n      <td>1.161321</td>\n      <td>-3.541919</td>\n      <td>-2.662352</td>\n      <td>...</td>\n      <td>-1.995545</td>\n      <td>-2.152421</td>\n      <td>-2.898693</td>\n      <td>-0.638369</td>\n      <td>-1.325238</td>\n      <td>-0.063217</td>\n      <td>-1.002434</td>\n      <td>-2.063088</td>\n      <td>1.501856</td>\n      <td>-1.929542</td>\n    </tr>\n    <tr>\n      <th>519</th>\n      <td>2018-12-28</td>\n      <td>-1.027002</td>\n      <td>0.861694</td>\n      <td>1.121038</td>\n      <td>-1.173878</td>\n      <td>-0.978943</td>\n      <td>-2.100838</td>\n      <td>1.434845</td>\n      <td>-3.224231</td>\n      <td>-2.455035</td>\n      <td>...</td>\n      <td>-1.723694</td>\n      <td>-1.996172</td>\n      <td>-2.675328</td>\n      <td>-0.542410</td>\n      <td>-1.180671</td>\n      <td>0.097114</td>\n      <td>-0.802761</td>\n      <td>-1.932938</td>\n      <td>1.766322</td>\n      <td>-1.848087</td>\n    </tr>\n    <tr>\n      <th>520</th>\n      <td>2018-12-31</td>\n      <td>-1.297863</td>\n      <td>1.132225</td>\n      <td>1.095023</td>\n      <td>-1.150609</td>\n      <td>-0.989960</td>\n      <td>-2.189215</td>\n      <td>1.473629</td>\n      <td>-3.253352</td>\n      <td>-2.435631</td>\n      <td>...</td>\n      <td>-1.606784</td>\n      <td>-2.034304</td>\n      <td>-2.713039</td>\n      <td>-0.617672</td>\n      <td>-1.170870</td>\n      <td>0.038326</td>\n      <td>-0.833187</td>\n      <td>-2.004393</td>\n      <td>1.859057</td>\n      <td>-1.870951</td>\n    </tr>\n  </tbody>\n</table>\n<p>521 rows × 97 columns</p>\n</div>"
     },
     "execution_count": 25,
     "metadata": {},
     "output_type": "execute_result"
    }
   ],
   "source": [
    "imputed_df =dict_of_imputed_dfs['SVT']\n",
    "missing = imputed_df.isnull().sum().sum()\n",
    "print(f\"Missing values count: {missing}\")\n",
    "imputed_df"
   ],
   "metadata": {
    "collapsed": false,
    "ExecuteTime": {
     "end_time": "2024-08-07T13:34:45.475566Z",
     "start_time": "2024-08-07T13:34:45.461208Z"
    }
   },
   "id": "43857f333cf8cfd9",
   "execution_count": 25
  },
  {
   "cell_type": "markdown",
   "source": [
    "## Compute metrics"
   ],
   "metadata": {
    "collapsed": false
   },
   "id": "af408aef05bc4476"
  },
  {
   "cell_type": "code",
   "outputs": [
    {
     "data": {
      "text/plain": "{'Missing value percentage': 3.2709532949456173,\n 'Mean absolute error': 0.16533025539126392,\n 'Mean square error': 0.05876296953865948,\n 'Root mean square error': 0.2424107455098876,\n 'Mean relative error': 0.20990041271331067,\n 'Euclidean Distance': 9.804907861129903,\n 'r2 score': 0.9365066577097498}"
     },
     "execution_count": 26,
     "metadata": {},
     "output_type": "execute_result"
    }
   ],
   "source": [
    "new_df_scaled = df_scaled.set_index(df_scaled.columns[0])\n",
    "\n",
    "new_df_missing = df_missing.set_index(df_missing.columns[0])\n",
    "\n",
    "new_imputed_df = imputed_df.set_index(imputed_df.columns[0])\n",
    "\n",
    "tsi.compute_metrics(new_df_scaled, new_df_missing, new_imputed_df)"
   ],
   "metadata": {
    "collapsed": false,
    "ExecuteTime": {
     "end_time": "2024-08-07T13:34:45.488665Z",
     "start_time": "2024-08-07T13:34:45.476518Z"
    }
   },
   "id": "ab95f5224b7a076a",
   "execution_count": 26
  },
  {
   "cell_type": "markdown",
   "source": [
    "## Train Ensemble Model"
   ],
   "metadata": {
    "collapsed": false
   },
   "id": "851d34f0bc65c4b"
  },
  {
   "cell_type": "code",
   "outputs": [],
   "source": [
    "parameters = {\n",
    "    'time_column' : 'time',\n",
    "    'sep' : ',',\n",
    "    'header' : 0,\n",
    "    'is_multivariate': False,\n",
    "    'areaVStime': 0,\n",
    "    'preprocessing': False,\n",
    "    'index': False,\n",
    "    \"algorithms\": [\"SoftImpute\", \"IterativeSVD\", \"SVT\", \"TimesNet\"],\n",
    "    \"params\": { \n",
    "        \"SoftImpute\": { \"max_rank\": 5 },\n",
    "        \"IterativeSVD\": { \"rank\": 3 }, \n",
    "        \"SVT\": { \"tauScale\": 0.7}, \n",
    "        \"TimesNet\":{ \n",
    "            \"n_layers\": 2, \"top_k\": 3, \n",
    "            \"d_model\":56, \"d_ffn\":56, \n",
    "            \"n_kernels\":1, \"dropout\":0.05, \n",
    "            \"apply_nonstationary_norm\": False,\n",
    "            \"batch_size\": 32,\n",
    "            \"epochs\":50,\n",
    "            \"num_workers\": 0,\n",
    "            \"patience\": 3,\n",
    "            \"lr\": 0.0003                                                        \n",
    "        }\n",
    "    },\n",
    "    'train_params': {\n",
    "        \"smooth\": False,\n",
    "        \"window\": 2,\n",
    "        \"order\": 1,\n",
    "        \"normalize\": False,\n",
    "        \"gap_type\": \"no_overlap\",\n",
    "        \"miss_perc\": 0.1,\n",
    "        \"gap_length\": 100,\n",
    "        \"max_gap_length\": 10,\n",
    "        \"max_gap_count\": 5\n",
    "    }\n",
    "}\n",
    "\n",
    "time_column = parameters['time_column']\n",
    "header = parameters['header']\n",
    "sep = parameters['sep']\n",
    "is_multivariate = parameters['is_multivariate']\n",
    "areaVStime = parameters['areaVStime']\n",
    "preprocessing = parameters['preprocessing']\n",
    "index = parameters['index']\n",
    "algorithms = parameters['algorithms']\n",
    "params = parameters['params']\n",
    "train_params = parameters['train_params']"
   ],
   "metadata": {
    "collapsed": false,
    "ExecuteTime": {
     "end_time": "2024-08-07T13:34:45.496151Z",
     "start_time": "2024-08-07T13:34:45.489602Z"
    }
   },
   "id": "c2c8104cca230c33",
   "execution_count": 27
  },
  {
   "cell_type": "code",
   "outputs": [
    {
     "name": "stderr",
     "output_type": "stream",
     "text": [
      "freeing copy memory @ 0x1ac44200\n",
      "freeing copy memory @ 0x1aca5d40\n",
      "freeing copy memory @ 0x1aca5d40\n",
      "2024-08-07 16:34:52 [INFO]: No given device, using default device: cuda\n",
      "2024-08-07 16:34:52 [WARNING]: ‼️ saving_path not given. Model files and tensorboard file will not be saved.\n",
      "2024-08-07 16:34:53 [INFO]: TimesNet initialized with the given hyperparameters, the number of trainable parameters: 13,217\n",
      "2024-08-07 16:34:53 [INFO]: Epoch 001 - training loss: 0.9188\n",
      "2024-08-07 16:34:53 [INFO]: Epoch 002 - training loss: 0.7823\n",
      "2024-08-07 16:34:53 [INFO]: Epoch 003 - training loss: 0.6776\n",
      "2024-08-07 16:34:53 [INFO]: Epoch 004 - training loss: 0.5815\n",
      "2024-08-07 16:34:53 [INFO]: Epoch 005 - training loss: 0.5000\n",
      "2024-08-07 16:34:53 [INFO]: Epoch 006 - training loss: 0.4376\n",
      "2024-08-07 16:34:53 [INFO]: Epoch 007 - training loss: 0.3966\n",
      "2024-08-07 16:34:53 [INFO]: Epoch 008 - training loss: 0.3473\n",
      "2024-08-07 16:34:53 [INFO]: Epoch 009 - training loss: 0.3376\n",
      "2024-08-07 16:34:53 [INFO]: Epoch 010 - training loss: 0.3210\n",
      "2024-08-07 16:34:53 [INFO]: Epoch 011 - training loss: 0.3128\n",
      "2024-08-07 16:34:53 [INFO]: Epoch 012 - training loss: 0.2996\n",
      "2024-08-07 16:34:53 [INFO]: Epoch 013 - training loss: 0.2836\n",
      "2024-08-07 16:34:53 [INFO]: Epoch 014 - training loss: 0.2819\n",
      "2024-08-07 16:34:53 [INFO]: Epoch 015 - training loss: 0.2824\n",
      "2024-08-07 16:34:53 [INFO]: Epoch 016 - training loss: 0.2928\n",
      "2024-08-07 16:34:53 [INFO]: Epoch 017 - training loss: 0.2692\n",
      "2024-08-07 16:34:53 [INFO]: Epoch 018 - training loss: 0.2629\n",
      "2024-08-07 16:34:53 [INFO]: Epoch 019 - training loss: 0.2620\n",
      "2024-08-07 16:34:54 [INFO]: Epoch 020 - training loss: 0.2500\n",
      "2024-08-07 16:34:54 [INFO]: Epoch 021 - training loss: 0.2455\n",
      "2024-08-07 16:34:54 [INFO]: Epoch 022 - training loss: 0.2472\n",
      "2024-08-07 16:34:54 [INFO]: Epoch 023 - training loss: 0.2534\n",
      "2024-08-07 16:34:54 [INFO]: Epoch 024 - training loss: 0.2392\n",
      "2024-08-07 16:34:54 [INFO]: Epoch 025 - training loss: 0.2321\n",
      "2024-08-07 16:34:54 [INFO]: Epoch 026 - training loss: 0.2372\n",
      "2024-08-07 16:34:54 [INFO]: Epoch 027 - training loss: 0.2213\n",
      "2024-08-07 16:34:54 [INFO]: Epoch 028 - training loss: 0.2273\n",
      "2024-08-07 16:34:54 [INFO]: Epoch 029 - training loss: 0.2250\n",
      "2024-08-07 16:34:54 [INFO]: Epoch 030 - training loss: 0.2197\n",
      "2024-08-07 16:34:54 [INFO]: Epoch 031 - training loss: 0.2137\n",
      "2024-08-07 16:34:54 [INFO]: Epoch 032 - training loss: 0.1942\n",
      "2024-08-07 16:34:54 [INFO]: Epoch 033 - training loss: 0.2038\n",
      "2024-08-07 16:34:54 [INFO]: Epoch 034 - training loss: 0.2087\n",
      "2024-08-07 16:34:54 [INFO]: Epoch 035 - training loss: 0.1966\n",
      "2024-08-07 16:34:54 [INFO]: Exceeded the training patience. Terminating the training procedure...\n",
      "2024-08-07 16:34:54 [INFO]: Finished training. The best model is from epoch#32.\n",
      "freeing copy memory @ 0x1b4df340\n",
      "freeing copy memory @ 0x1ad07820\n",
      "freeing copy memory @ 0x1b540e20\n",
      "2024-08-07 16:35:02 [INFO]: No given device, using default device: cuda\n",
      "2024-08-07 16:35:02 [WARNING]: ‼️ saving_path not given. Model files and tensorboard file will not be saved.\n",
      "2024-08-07 16:35:02 [INFO]: TimesNet initialized with the given hyperparameters, the number of trainable parameters: 13,217\n",
      "2024-08-07 16:35:02 [INFO]: Epoch 001 - training loss: 1.5482\n",
      "2024-08-07 16:35:02 [INFO]: Epoch 002 - training loss: 1.3222\n",
      "2024-08-07 16:35:02 [INFO]: Epoch 003 - training loss: 1.1000\n",
      "2024-08-07 16:35:02 [INFO]: Epoch 004 - training loss: 0.9557\n",
      "2024-08-07 16:35:02 [INFO]: Epoch 005 - training loss: 0.7792\n",
      "2024-08-07 16:35:02 [INFO]: Epoch 006 - training loss: 0.6663\n",
      "2024-08-07 16:35:02 [INFO]: Epoch 007 - training loss: 0.5744\n",
      "2024-08-07 16:35:02 [INFO]: Epoch 008 - training loss: 0.4763\n",
      "2024-08-07 16:35:02 [INFO]: Epoch 009 - training loss: 0.4465\n",
      "2024-08-07 16:35:03 [INFO]: Epoch 010 - training loss: 0.3827\n",
      "2024-08-07 16:35:03 [INFO]: Epoch 011 - training loss: 0.3579\n",
      "2024-08-07 16:35:03 [INFO]: Epoch 012 - training loss: 0.3479\n",
      "2024-08-07 16:35:03 [INFO]: Epoch 013 - training loss: 0.3225\n",
      "2024-08-07 16:35:03 [INFO]: Epoch 014 - training loss: 0.3226\n",
      "2024-08-07 16:35:03 [INFO]: Epoch 015 - training loss: 0.3046\n",
      "2024-08-07 16:35:03 [INFO]: Epoch 016 - training loss: 0.3121\n",
      "2024-08-07 16:35:03 [INFO]: Epoch 017 - training loss: 0.3021\n",
      "2024-08-07 16:35:03 [INFO]: Epoch 018 - training loss: 0.2937\n",
      "2024-08-07 16:35:03 [INFO]: Epoch 019 - training loss: 0.2974\n",
      "2024-08-07 16:35:03 [INFO]: Epoch 020 - training loss: 0.2812\n",
      "2024-08-07 16:35:03 [INFO]: Epoch 021 - training loss: 0.2814\n",
      "2024-08-07 16:35:03 [INFO]: Epoch 022 - training loss: 0.2813\n",
      "2024-08-07 16:35:03 [INFO]: Epoch 023 - training loss: 0.2753\n",
      "2024-08-07 16:35:03 [INFO]: Epoch 024 - training loss: 0.2650\n",
      "2024-08-07 16:35:03 [INFO]: Epoch 025 - training loss: 0.2653\n",
      "2024-08-07 16:35:03 [INFO]: Epoch 026 - training loss: 0.2650\n",
      "2024-08-07 16:35:03 [INFO]: Epoch 027 - training loss: 0.2476\n",
      "2024-08-07 16:35:03 [INFO]: Epoch 028 - training loss: 0.2702\n",
      "2024-08-07 16:35:03 [INFO]: Epoch 029 - training loss: 0.2488\n",
      "2024-08-07 16:35:03 [INFO]: Epoch 030 - training loss: 0.2588\n",
      "2024-08-07 16:35:03 [INFO]: Exceeded the training patience. Terminating the training procedure...\n",
      "2024-08-07 16:35:03 [INFO]: Finished training. The best model is from epoch#27.\n"
     ]
    },
    {
     "data": {
      "text/plain": "{'SoftImpute': {'mae': 0.3220007582791529,\n  'mse': 0.18654982541789816,\n  'rmse': 0.43191414125714633,\n  'r2': 0.79209841935168,\n  'euclidean_distance': 207.3187878034302},\n 'IterativeSVD': {'mae': 0.4264307124862928,\n  'mse': 0.2975508187825555,\n  'rmse': 0.5454821892441177,\n  'r2': 0.6683926912849314,\n  'euclidean_distance': 261.83145083717653},\n 'SVT': {'mae': 0.1782523835252526,\n  'mse': 0.08049457273009078,\n  'rmse': 0.2837156547145236,\n  'r2': 0.9102923368236429,\n  'euclidean_distance': 136.18351426297133},\n 'TimesNet': {'mae': 0.6014640698581363,\n  'mse': 0.625072666295575,\n  'rmse': 0.7906153719069564,\n  'r2': 0.3033839884234929,\n  'euclidean_distance': 379.4953785153391},\n 'Ensemble_Model': {'mae': 0.13413052368755402,\n  'mse': 0.03177538772372027,\n  'rmse': 0.1782565222473508,\n  'r2': 0.964587727066075,\n  'euclidean_distance': 85.5631306787284}}"
     },
     "execution_count": 28,
     "metadata": {},
     "output_type": "execute_result"
    }
   ],
   "source": [
    "model, metrics = tsi.train_ensemble(ground_truth = df_scaled, \n",
    "                                    algorithms=algorithms,\n",
    "                                    params=params, \n",
    "                                    train_params=train_params,\n",
    "                                    time_column=time_column, \n",
    "                                    header=header, \n",
    "                                    sep=sep, \n",
    "                                    is_multivariate=is_multivariate, \n",
    "                                    areaVStime=areaVStime, \n",
    "                                    preprocessing=preprocessing, \n",
    "                                    index=index)\n",
    "metrics"
   ],
   "metadata": {
    "collapsed": false,
    "ExecuteTime": {
     "end_time": "2024-08-07T13:35:04.143378Z",
     "start_time": "2024-08-07T13:34:45.497063Z"
    }
   },
   "id": "e8463e4866230439",
   "execution_count": 28
  },
  {
   "cell_type": "markdown",
   "source": [
    "## Imputation with Ensemble Model"
   ],
   "metadata": {
    "collapsed": false
   },
   "id": "2d95313e789bb4fb"
  },
  {
   "cell_type": "code",
   "outputs": [],
   "source": [
    "parameters = {\n",
    "    'time_column' : 'time',\n",
    "    'sep' : ',',\n",
    "    'header' : 0,\n",
    "    'is_multivariate': False,\n",
    "    'areaVStime': 0,\n",
    "    'preprocessing': False,\n",
    "    'index': False,\n",
    "    \"algorithms\": [\"SoftImpute\", \"IterativeSVD\", \"SVT\", \"TimesNet\"],\n",
    "    \"params\": { \n",
    "        \"SoftImpute\": { \"max_rank\": 5 },\n",
    "        \"IterativeSVD\": { \"rank\": 3 }, \n",
    "        \"SVT\": { \"tauScale\": 0.7}, \n",
    "        \"TimesNet\":{ \n",
    "            \"n_layers\": 2, \"top_k\": 3, \n",
    "            \"d_model\":56, \"d_ffn\":56, \n",
    "            \"n_kernels\":1, \"dropout\":0.05, \n",
    "            \"apply_nonstationary_norm\": False,\n",
    "            \"batch_size\": 32,\n",
    "            \"epochs\":50,\n",
    "            \"num_workers\": 0,\n",
    "            \"patience\": 3,\n",
    "            \"lr\": 0.0003                                                        \n",
    "        }\n",
    "    }\n",
    "}\n",
    "\n",
    "time_column = parameters['time_column']\n",
    "header = parameters['header']\n",
    "sep = parameters['sep']\n",
    "is_multivariate = parameters['is_multivariate']\n",
    "areaVStime = parameters['areaVStime']\n",
    "preprocessing = parameters['preprocessing']\n",
    "index = parameters['index']\n",
    "algorithms = parameters['algorithms']\n",
    "params = parameters['params']"
   ],
   "metadata": {
    "collapsed": false,
    "ExecuteTime": {
     "end_time": "2024-08-07T13:35:04.149651Z",
     "start_time": "2024-08-07T13:35:04.145755Z"
    }
   },
   "id": "7316c22364f48853",
   "execution_count": 29
  },
  {
   "cell_type": "code",
   "outputs": [
    {
     "name": "stderr",
     "output_type": "stream",
     "text": [
      "freeing copy memory @ 0x1b736c40\n",
      "freeing copy memory @ 0x1aabd540\n",
      "freeing copy memory @ 0x1aabd540\n",
      "2024-08-07 16:35:10 [INFO]: No given device, using default device: cuda\n",
      "2024-08-07 16:35:10 [WARNING]: ‼️ saving_path not given. Model files and tensorboard file will not be saved.\n",
      "2024-08-07 16:35:10 [INFO]: TimesNet initialized with the given hyperparameters, the number of trainable parameters: 13,217\n",
      "2024-08-07 16:35:10 [INFO]: Epoch 001 - training loss: 1.8954\n",
      "2024-08-07 16:35:10 [INFO]: Epoch 002 - training loss: 1.6535\n",
      "2024-08-07 16:35:10 [INFO]: Epoch 003 - training loss: 1.4228\n",
      "2024-08-07 16:35:10 [INFO]: Epoch 004 - training loss: 1.2480\n",
      "2024-08-07 16:35:10 [INFO]: Epoch 005 - training loss: 1.0494\n",
      "2024-08-07 16:35:10 [INFO]: Epoch 006 - training loss: 0.8909\n",
      "2024-08-07 16:35:10 [INFO]: Epoch 007 - training loss: 0.7668\n",
      "2024-08-07 16:35:10 [INFO]: Epoch 008 - training loss: 0.6682\n",
      "2024-08-07 16:35:10 [INFO]: Epoch 009 - training loss: 0.5725\n",
      "2024-08-07 16:35:10 [INFO]: Epoch 010 - training loss: 0.5080\n",
      "2024-08-07 16:35:11 [INFO]: Epoch 011 - training loss: 0.4492\n",
      "2024-08-07 16:35:11 [INFO]: Epoch 012 - training loss: 0.3948\n",
      "2024-08-07 16:35:11 [INFO]: Epoch 013 - training loss: 0.3688\n",
      "2024-08-07 16:35:11 [INFO]: Epoch 014 - training loss: 0.3458\n",
      "2024-08-07 16:35:11 [INFO]: Epoch 015 - training loss: 0.3270\n",
      "2024-08-07 16:35:11 [INFO]: Epoch 016 - training loss: 0.3278\n",
      "2024-08-07 16:35:11 [INFO]: Epoch 017 - training loss: 0.3137\n",
      "2024-08-07 16:35:11 [INFO]: Epoch 018 - training loss: 0.3131\n",
      "2024-08-07 16:35:11 [INFO]: Epoch 019 - training loss: 0.2927\n",
      "2024-08-07 16:35:11 [INFO]: Epoch 020 - training loss: 0.3040\n",
      "2024-08-07 16:35:11 [INFO]: Epoch 021 - training loss: 0.2897\n",
      "2024-08-07 16:35:11 [INFO]: Epoch 022 - training loss: 0.2870\n",
      "2024-08-07 16:35:11 [INFO]: Epoch 023 - training loss: 0.2804\n",
      "2024-08-07 16:35:11 [INFO]: Epoch 024 - training loss: 0.2783\n",
      "2024-08-07 16:35:11 [INFO]: Epoch 025 - training loss: 0.2837\n",
      "2024-08-07 16:35:11 [INFO]: Epoch 026 - training loss: 0.2662\n",
      "2024-08-07 16:35:11 [INFO]: Epoch 027 - training loss: 0.2700\n",
      "2024-08-07 16:35:11 [INFO]: Epoch 028 - training loss: 0.2605\n",
      "2024-08-07 16:35:11 [INFO]: Epoch 029 - training loss: 0.2703\n",
      "2024-08-07 16:35:11 [INFO]: Epoch 030 - training loss: 0.2562\n",
      "2024-08-07 16:35:11 [INFO]: Epoch 031 - training loss: 0.2502\n",
      "2024-08-07 16:35:11 [INFO]: Epoch 032 - training loss: 0.2507\n",
      "2024-08-07 16:35:11 [INFO]: Epoch 033 - training loss: 0.2545\n",
      "2024-08-07 16:35:11 [INFO]: Epoch 034 - training loss: 0.2517\n",
      "2024-08-07 16:35:11 [INFO]: Exceeded the training patience. Terminating the training procedure...\n",
      "2024-08-07 16:35:11 [INFO]: Finished training. The best model is from epoch#31.\n"
     ]
    }
   ],
   "source": [
    "model_imputed_df = tsi.run_imputation_ensemble(missing = df_missing, \n",
    "                                               algorithms=algorithms,\n",
    "                                               params=params, \n",
    "                                               model=model,\n",
    "                                               time_column=time_column,\n",
    "                                               header=header, \n",
    "                                               sep=sep, \n",
    "                                               is_multivariate=is_multivariate, \n",
    "                                               areaVStime=areaVStime, \n",
    "                                               preprocessing=preprocessing,\n",
    "                                               index=index)"
   ],
   "metadata": {
    "collapsed": false,
    "ExecuteTime": {
     "end_time": "2024-08-07T13:35:11.997632Z",
     "start_time": "2024-08-07T13:35:04.151267Z"
    }
   },
   "id": "b2cf91b790d58cd6",
   "execution_count": 30
  },
  {
   "cell_type": "code",
   "outputs": [
    {
     "name": "stdout",
     "output_type": "stream",
     "text": [
      "Missing values count: 0\n"
     ]
    },
    {
     "data": {
      "text/plain": "           time  3i Group PLC_035999.txt  Admiral Group_036346.txt  \\\n0    2017-01-02                -2.152305                 -1.347635   \n1    2017-01-03                -2.053810                 -1.189826   \n2    2017-01-04                -1.992251                 -1.325091   \n3    2017-01-05                -1.924536                 -1.336363   \n4    2017-01-06                -1.912224                 -1.313819   \n..          ...                      ...                       ...   \n516  2018-12-25                -1.509627                  0.405175   \n517  2018-12-26                -1.509627                  0.405175   \n518  2018-12-27                -1.310175                  0.433355   \n519  2018-12-28                -1.027002                  0.861694   \n520  2018-12-31                -1.297863                  1.132225   \n\n     Anglo American PLC_035918.txt  Antofagasta PLC_028149.txt  \\\n0                        -1.294240                   -2.295047   \n1                        -1.286110                   -2.136391   \n2                        -1.365373                   -2.120526   \n3                        -1.355211                   -2.035909   \n4                        -1.395858                   -2.094083   \n..                             ...                         ...   \n516                       1.060066                   -1.271187   \n517                       1.060066                   -1.271187   \n518                       0.958448                   -1.406574   \n519                       1.121038                   -1.173878   \n520                       1.095023                   -1.150609   \n\n     Ashtead Group_028090.txt  Associated British Foods PLC_035919.txt  \\\n0                   -1.199292                                 0.108603   \n1                   -1.136860                                -0.002687   \n2                   -1.155222                                -0.333285   \n3                   -1.122170                                -0.087792   \n4                   -1.155222                                -0.185989   \n..                        ...                                      ...   \n516                 -0.967925                                -2.068105   \n517                 -0.967925                                -2.068105   \n518                 -1.175421                                -2.195762   \n519                 -0.978943                                -2.100838   \n520                 -0.989960                                -2.189215   \n\n     Astrazeneca PLC_035998.txt  Aviva PLC_035907.txt  \\\n0                     -1.456547             -0.317386   \n1                     -1.453486             -0.134716   \n2                     -1.376940             -0.145305   \n3                     -1.226910             -0.222080   \n4                     -1.225889             -0.237964   \n..                          ...                   ...   \n516                    1.653256             -3.340717   \n517                    1.653256             -3.340717   \n518                    1.161321             -3.541919   \n519                    1.434845             -3.224231   \n520                    1.473629             -3.253352   \n\n     Barclays PLC_035976.txt  ...  Standard Chartered PLC_035959.txt  \\\n0                   1.288425  ...                          -0.841939   \n1                   1.719911  ...                          -0.641924   \n2                   1.878207  ...                          -0.565862   \n3                  -1.600688  ...                          -0.465855   \n4                  -0.420632  ...                          -0.389793   \n..                       ...  ...                                ...   \n516                -2.628650  ...                          -1.847647   \n517                -2.628650  ...                          -1.847647   \n518                -2.662352  ...                          -1.995545   \n519                -2.455035  ...                          -1.723694   \n520                -2.435631  ...                          -1.606784   \n\n     Standard Life Aberdeen Plc_036365.txt  Taylor Wimpey PLC_036366.txt  \\\n0                                 0.109476                     -1.712247   \n1                                 0.235964                     -1.596214   \n2                                 0.226663                     -1.253914   \n3                                -0.054214                     -0.789779   \n4                                -0.039333                     -0.841994   \n..                                     ...                           ...   \n516                              -2.137541                     -2.842126   \n517                              -2.137541                     -2.842126   \n518                              -2.152421                     -2.898693   \n519                              -1.996172                     -2.675328   \n520                              -2.034304                     -2.713039   \n\n     Tesco PLC_035966.txt  TUI AG_02821N.txt  Unilever PLC_035922.txt  \\\n0                0.012647          -0.987098                -2.869013   \n1               -0.013695          -1.006700                -2.931364   \n2               -0.038155          -0.967495                -2.886828   \n3               -0.280875          -0.947893                -2.845854   \n4               -0.263941          -0.977297                -2.863669   \n..                    ...                ...                      ...   \n516             -0.621435          -1.151267                 0.237849   \n517             -0.621435          -1.151267                 0.237849   \n518             -0.638369          -1.325238                -0.063217   \n519             -0.542410          -1.180671                 0.097114   \n520             -0.617672          -1.170870                 0.038326   \n\n     United Utilities Group PLC_036341.txt  Vodafone Group PLC_035943.txt  \\\n0                                 0.733771                      -0.007477   \n1                                 0.710001                       0.100982   \n2                                 0.638689                       0.241340   \n3                                 0.724263                       0.400838   \n4                                 0.695738                       0.481651   \n..                                     ...                            ...   \n516                              -0.878827                      -1.936340   \n517                              -0.878827                      -1.936340   \n518                              -1.002434                      -2.063088   \n519                              -0.802761                      -1.932938   \n520                              -0.833187                      -2.004393   \n\n     Whitbread PLC_035895.txt  WPP PLC_035947.txt  \n0                   -0.898946            1.592327  \n1                   -0.881773            1.624480  \n2                   -0.713477            1.578037  \n3                   -0.469618            1.642343  \n4                   -0.332233            1.678069  \n..                        ...                 ...  \n516                  1.656414           -1.858805  \n517                  1.656414           -1.858805  \n518                  1.501856           -1.929542  \n519                  1.766322           -1.848087  \n520                  1.859057           -1.870951  \n\n[521 rows x 97 columns]",
      "text/html": "<div>\n<style scoped>\n    .dataframe tbody tr th:only-of-type {\n        vertical-align: middle;\n    }\n\n    .dataframe tbody tr th {\n        vertical-align: top;\n    }\n\n    .dataframe thead th {\n        text-align: right;\n    }\n</style>\n<table border=\"1\" class=\"dataframe\">\n  <thead>\n    <tr style=\"text-align: right;\">\n      <th></th>\n      <th>time</th>\n      <th>3i Group PLC_035999.txt</th>\n      <th>Admiral Group_036346.txt</th>\n      <th>Anglo American PLC_035918.txt</th>\n      <th>Antofagasta PLC_028149.txt</th>\n      <th>Ashtead Group_028090.txt</th>\n      <th>Associated British Foods PLC_035919.txt</th>\n      <th>Astrazeneca PLC_035998.txt</th>\n      <th>Aviva PLC_035907.txt</th>\n      <th>Barclays PLC_035976.txt</th>\n      <th>...</th>\n      <th>Standard Chartered PLC_035959.txt</th>\n      <th>Standard Life Aberdeen Plc_036365.txt</th>\n      <th>Taylor Wimpey PLC_036366.txt</th>\n      <th>Tesco PLC_035966.txt</th>\n      <th>TUI AG_02821N.txt</th>\n      <th>Unilever PLC_035922.txt</th>\n      <th>United Utilities Group PLC_036341.txt</th>\n      <th>Vodafone Group PLC_035943.txt</th>\n      <th>Whitbread PLC_035895.txt</th>\n      <th>WPP PLC_035947.txt</th>\n    </tr>\n  </thead>\n  <tbody>\n    <tr>\n      <th>0</th>\n      <td>2017-01-02</td>\n      <td>-2.152305</td>\n      <td>-1.347635</td>\n      <td>-1.294240</td>\n      <td>-2.295047</td>\n      <td>-1.199292</td>\n      <td>0.108603</td>\n      <td>-1.456547</td>\n      <td>-0.317386</td>\n      <td>1.288425</td>\n      <td>...</td>\n      <td>-0.841939</td>\n      <td>0.109476</td>\n      <td>-1.712247</td>\n      <td>0.012647</td>\n      <td>-0.987098</td>\n      <td>-2.869013</td>\n      <td>0.733771</td>\n      <td>-0.007477</td>\n      <td>-0.898946</td>\n      <td>1.592327</td>\n    </tr>\n    <tr>\n      <th>1</th>\n      <td>2017-01-03</td>\n      <td>-2.053810</td>\n      <td>-1.189826</td>\n      <td>-1.286110</td>\n      <td>-2.136391</td>\n      <td>-1.136860</td>\n      <td>-0.002687</td>\n      <td>-1.453486</td>\n      <td>-0.134716</td>\n      <td>1.719911</td>\n      <td>...</td>\n      <td>-0.641924</td>\n      <td>0.235964</td>\n      <td>-1.596214</td>\n      <td>-0.013695</td>\n      <td>-1.006700</td>\n      <td>-2.931364</td>\n      <td>0.710001</td>\n      <td>0.100982</td>\n      <td>-0.881773</td>\n      <td>1.624480</td>\n    </tr>\n    <tr>\n      <th>2</th>\n      <td>2017-01-04</td>\n      <td>-1.992251</td>\n      <td>-1.325091</td>\n      <td>-1.365373</td>\n      <td>-2.120526</td>\n      <td>-1.155222</td>\n      <td>-0.333285</td>\n      <td>-1.376940</td>\n      <td>-0.145305</td>\n      <td>1.878207</td>\n      <td>...</td>\n      <td>-0.565862</td>\n      <td>0.226663</td>\n      <td>-1.253914</td>\n      <td>-0.038155</td>\n      <td>-0.967495</td>\n      <td>-2.886828</td>\n      <td>0.638689</td>\n      <td>0.241340</td>\n      <td>-0.713477</td>\n      <td>1.578037</td>\n    </tr>\n    <tr>\n      <th>3</th>\n      <td>2017-01-05</td>\n      <td>-1.924536</td>\n      <td>-1.336363</td>\n      <td>-1.355211</td>\n      <td>-2.035909</td>\n      <td>-1.122170</td>\n      <td>-0.087792</td>\n      <td>-1.226910</td>\n      <td>-0.222080</td>\n      <td>-1.600688</td>\n      <td>...</td>\n      <td>-0.465855</td>\n      <td>-0.054214</td>\n      <td>-0.789779</td>\n      <td>-0.280875</td>\n      <td>-0.947893</td>\n      <td>-2.845854</td>\n      <td>0.724263</td>\n      <td>0.400838</td>\n      <td>-0.469618</td>\n      <td>1.642343</td>\n    </tr>\n    <tr>\n      <th>4</th>\n      <td>2017-01-06</td>\n      <td>-1.912224</td>\n      <td>-1.313819</td>\n      <td>-1.395858</td>\n      <td>-2.094083</td>\n      <td>-1.155222</td>\n      <td>-0.185989</td>\n      <td>-1.225889</td>\n      <td>-0.237964</td>\n      <td>-0.420632</td>\n      <td>...</td>\n      <td>-0.389793</td>\n      <td>-0.039333</td>\n      <td>-0.841994</td>\n      <td>-0.263941</td>\n      <td>-0.977297</td>\n      <td>-2.863669</td>\n      <td>0.695738</td>\n      <td>0.481651</td>\n      <td>-0.332233</td>\n      <td>1.678069</td>\n    </tr>\n    <tr>\n      <th>...</th>\n      <td>...</td>\n      <td>...</td>\n      <td>...</td>\n      <td>...</td>\n      <td>...</td>\n      <td>...</td>\n      <td>...</td>\n      <td>...</td>\n      <td>...</td>\n      <td>...</td>\n      <td>...</td>\n      <td>...</td>\n      <td>...</td>\n      <td>...</td>\n      <td>...</td>\n      <td>...</td>\n      <td>...</td>\n      <td>...</td>\n      <td>...</td>\n      <td>...</td>\n      <td>...</td>\n    </tr>\n    <tr>\n      <th>516</th>\n      <td>2018-12-25</td>\n      <td>-1.509627</td>\n      <td>0.405175</td>\n      <td>1.060066</td>\n      <td>-1.271187</td>\n      <td>-0.967925</td>\n      <td>-2.068105</td>\n      <td>1.653256</td>\n      <td>-3.340717</td>\n      <td>-2.628650</td>\n      <td>...</td>\n      <td>-1.847647</td>\n      <td>-2.137541</td>\n      <td>-2.842126</td>\n      <td>-0.621435</td>\n      <td>-1.151267</td>\n      <td>0.237849</td>\n      <td>-0.878827</td>\n      <td>-1.936340</td>\n      <td>1.656414</td>\n      <td>-1.858805</td>\n    </tr>\n    <tr>\n      <th>517</th>\n      <td>2018-12-26</td>\n      <td>-1.509627</td>\n      <td>0.405175</td>\n      <td>1.060066</td>\n      <td>-1.271187</td>\n      <td>-0.967925</td>\n      <td>-2.068105</td>\n      <td>1.653256</td>\n      <td>-3.340717</td>\n      <td>-2.628650</td>\n      <td>...</td>\n      <td>-1.847647</td>\n      <td>-2.137541</td>\n      <td>-2.842126</td>\n      <td>-0.621435</td>\n      <td>-1.151267</td>\n      <td>0.237849</td>\n      <td>-0.878827</td>\n      <td>-1.936340</td>\n      <td>1.656414</td>\n      <td>-1.858805</td>\n    </tr>\n    <tr>\n      <th>518</th>\n      <td>2018-12-27</td>\n      <td>-1.310175</td>\n      <td>0.433355</td>\n      <td>0.958448</td>\n      <td>-1.406574</td>\n      <td>-1.175421</td>\n      <td>-2.195762</td>\n      <td>1.161321</td>\n      <td>-3.541919</td>\n      <td>-2.662352</td>\n      <td>...</td>\n      <td>-1.995545</td>\n      <td>-2.152421</td>\n      <td>-2.898693</td>\n      <td>-0.638369</td>\n      <td>-1.325238</td>\n      <td>-0.063217</td>\n      <td>-1.002434</td>\n      <td>-2.063088</td>\n      <td>1.501856</td>\n      <td>-1.929542</td>\n    </tr>\n    <tr>\n      <th>519</th>\n      <td>2018-12-28</td>\n      <td>-1.027002</td>\n      <td>0.861694</td>\n      <td>1.121038</td>\n      <td>-1.173878</td>\n      <td>-0.978943</td>\n      <td>-2.100838</td>\n      <td>1.434845</td>\n      <td>-3.224231</td>\n      <td>-2.455035</td>\n      <td>...</td>\n      <td>-1.723694</td>\n      <td>-1.996172</td>\n      <td>-2.675328</td>\n      <td>-0.542410</td>\n      <td>-1.180671</td>\n      <td>0.097114</td>\n      <td>-0.802761</td>\n      <td>-1.932938</td>\n      <td>1.766322</td>\n      <td>-1.848087</td>\n    </tr>\n    <tr>\n      <th>520</th>\n      <td>2018-12-31</td>\n      <td>-1.297863</td>\n      <td>1.132225</td>\n      <td>1.095023</td>\n      <td>-1.150609</td>\n      <td>-0.989960</td>\n      <td>-2.189215</td>\n      <td>1.473629</td>\n      <td>-3.253352</td>\n      <td>-2.435631</td>\n      <td>...</td>\n      <td>-1.606784</td>\n      <td>-2.034304</td>\n      <td>-2.713039</td>\n      <td>-0.617672</td>\n      <td>-1.170870</td>\n      <td>0.038326</td>\n      <td>-0.833187</td>\n      <td>-2.004393</td>\n      <td>1.859057</td>\n      <td>-1.870951</td>\n    </tr>\n  </tbody>\n</table>\n<p>521 rows × 97 columns</p>\n</div>"
     },
     "execution_count": 31,
     "metadata": {},
     "output_type": "execute_result"
    }
   ],
   "source": [
    "missing = model_imputed_df.isnull().sum().sum()\n",
    "print(f\"Missing values count: {missing}\")\n",
    "model_imputed_df"
   ],
   "metadata": {
    "collapsed": false,
    "ExecuteTime": {
     "end_time": "2024-08-07T13:35:12.011145Z",
     "start_time": "2024-08-07T13:35:11.999179Z"
    }
   },
   "id": "83aeb8e669ea512d",
   "execution_count": 31
  },
  {
   "cell_type": "markdown",
   "source": [
    "## Transform to the original"
   ],
   "metadata": {
    "collapsed": false
   },
   "id": "25b846d5086c6be8"
  },
  {
   "cell_type": "code",
   "outputs": [],
   "source": [
    "parameters = {\n",
    "    'time_column' : 'time',\n",
    "    'sep' : ',',\n",
    "    'header' : 0,\n",
    "    'preprocessing': False,\n",
    "    'index': False,\n",
    "}\n",
    "\n",
    "time_column = parameters['time_column']\n",
    "header = parameters['header']\n",
    "sep = parameters['sep']\n",
    "preprocessing = parameters['preprocessing']\n",
    "index = parameters['index']"
   ],
   "metadata": {
    "collapsed": false,
    "ExecuteTime": {
     "end_time": "2024-08-07T13:35:12.019464Z",
     "start_time": "2024-08-07T13:35:12.012196Z"
    }
   },
   "id": "6830254ed3603138",
   "execution_count": 32
  },
  {
   "cell_type": "code",
   "outputs": [],
   "source": [
    "model_imputed_df_orig = tsi.dataframe_inverse_scaler(df_input=model_imputed_df, \n",
    "                                                     scaler=scaler,\n",
    "                                                     time_column=time_column, \n",
    "                                                     header=header, \n",
    "                                                     sep=sep, \n",
    "                                                     preprocessing=preprocessing, \n",
    "                                                     index=index)"
   ],
   "metadata": {
    "collapsed": false,
    "ExecuteTime": {
     "end_time": "2024-08-07T13:35:12.029939Z",
     "start_time": "2024-08-07T13:35:12.020387Z"
    }
   },
   "id": "49767446566c180",
   "execution_count": 33
  },
  {
   "cell_type": "code",
   "outputs": [
    {
     "data": {
      "text/plain": "           time  3i Group PLC_035999.txt  Admiral Group_036346.txt  \\\n0    2017-01-02                -2.152305                 -1.347635   \n1    2017-01-03                -2.053810                 -1.189826   \n2    2017-01-04                -1.992251                 -1.325091   \n3    2017-01-05                -1.924536                 -1.336363   \n4    2017-01-06                -1.912224                 -1.313819   \n..          ...                      ...                       ...   \n516  2018-12-25                -1.509627                  0.405175   \n517  2018-12-26                -1.509627                  0.405175   \n518  2018-12-27                -1.310175                  0.433355   \n519  2018-12-28                -1.027002                  0.861694   \n520  2018-12-31                -1.297863                  1.132225   \n\n     Anglo American PLC_035918.txt  Antofagasta PLC_028149.txt  \\\n0                        -1.294240                   -2.295047   \n1                        -1.286110                   -2.136391   \n2                        -1.365373                   -2.120526   \n3                        -1.355211                   -2.035909   \n4                        -1.395858                   -2.094083   \n..                             ...                         ...   \n516                       1.060066                   -1.271187   \n517                       1.060066                   -1.271187   \n518                       0.958448                   -1.406574   \n519                       1.121038                   -1.173878   \n520                       1.095023                   -1.150609   \n\n     Ashtead Group_028090.txt  Associated British Foods PLC_035919.txt  \\\n0                   -1.199292                                 0.108603   \n1                   -1.136860                                -0.002687   \n2                   -1.155222                                -0.333285   \n3                   -1.122170                                -0.087792   \n4                   -1.155222                                -0.185989   \n..                        ...                                      ...   \n516                 -0.967925                                -2.068105   \n517                 -0.967925                                -2.068105   \n518                 -1.175421                                -2.195762   \n519                 -0.978943                                -2.100838   \n520                 -0.989960                                -2.189215   \n\n     Astrazeneca PLC_035998.txt  Aviva PLC_035907.txt  \\\n0                     -1.456547             -0.317386   \n1                     -1.453486             -0.134716   \n2                     -1.376940             -0.145305   \n3                     -1.226910             -0.222080   \n4                     -1.225889             -0.237964   \n..                          ...                   ...   \n516                    1.653256             -3.340717   \n517                    1.653256             -3.340717   \n518                    1.161321             -3.541919   \n519                    1.434845             -3.224231   \n520                    1.473629             -3.253352   \n\n     Barclays PLC_035976.txt  ...  Standard Chartered PLC_035959.txt  \\\n0                   1.288425  ...                          -0.841939   \n1                   1.719911  ...                          -0.641924   \n2                   1.878207  ...                          -0.565862   \n3                  -1.600688  ...                          -0.465855   \n4                  -0.420632  ...                          -0.389793   \n..                       ...  ...                                ...   \n516                -2.628650  ...                          -1.847647   \n517                -2.628650  ...                          -1.847647   \n518                -2.662352  ...                          -1.995545   \n519                -2.455035  ...                          -1.723694   \n520                -2.435631  ...                          -1.606784   \n\n     Standard Life Aberdeen Plc_036365.txt  Taylor Wimpey PLC_036366.txt  \\\n0                                 0.109476                     -1.712247   \n1                                 0.235964                     -1.596214   \n2                                 0.226663                     -1.253914   \n3                                -0.054214                     -0.789779   \n4                                -0.039333                     -0.841994   \n..                                     ...                           ...   \n516                              -2.137541                     -2.842126   \n517                              -2.137541                     -2.842126   \n518                              -2.152421                     -2.898693   \n519                              -1.996172                     -2.675328   \n520                              -2.034304                     -2.713039   \n\n     Tesco PLC_035966.txt  TUI AG_02821N.txt  Unilever PLC_035922.txt  \\\n0                0.012647          -0.987098                -2.869013   \n1               -0.013695          -1.006700                -2.931364   \n2               -0.038155          -0.967495                -2.886828   \n3               -0.280875          -0.947893                -2.845854   \n4               -0.263941          -0.977297                -2.863669   \n..                    ...                ...                      ...   \n516             -0.621435          -1.151267                 0.237849   \n517             -0.621435          -1.151267                 0.237849   \n518             -0.638369          -1.325238                -0.063217   \n519             -0.542410          -1.180671                 0.097114   \n520             -0.617672          -1.170870                 0.038326   \n\n     United Utilities Group PLC_036341.txt  Vodafone Group PLC_035943.txt  \\\n0                                 0.733771                      -0.007477   \n1                                 0.710001                       0.100982   \n2                                 0.638689                       0.241340   \n3                                 0.724263                       0.400838   \n4                                 0.695738                       0.481651   \n..                                     ...                            ...   \n516                              -0.878827                      -1.936340   \n517                              -0.878827                      -1.936340   \n518                              -1.002434                      -2.063088   \n519                              -0.802761                      -1.932938   \n520                              -0.833187                      -2.004393   \n\n     Whitbread PLC_035895.txt  WPP PLC_035947.txt  \n0                   -0.898946            1.592327  \n1                   -0.881773            1.624480  \n2                   -0.713477            1.578037  \n3                   -0.469618            1.642343  \n4                   -0.332233            1.678069  \n..                        ...                 ...  \n516                  1.656414           -1.858805  \n517                  1.656414           -1.858805  \n518                  1.501856           -1.929542  \n519                  1.766322           -1.848087  \n520                  1.859057           -1.870951  \n\n[521 rows x 97 columns]",
      "text/html": "<div>\n<style scoped>\n    .dataframe tbody tr th:only-of-type {\n        vertical-align: middle;\n    }\n\n    .dataframe tbody tr th {\n        vertical-align: top;\n    }\n\n    .dataframe thead th {\n        text-align: right;\n    }\n</style>\n<table border=\"1\" class=\"dataframe\">\n  <thead>\n    <tr style=\"text-align: right;\">\n      <th></th>\n      <th>time</th>\n      <th>3i Group PLC_035999.txt</th>\n      <th>Admiral Group_036346.txt</th>\n      <th>Anglo American PLC_035918.txt</th>\n      <th>Antofagasta PLC_028149.txt</th>\n      <th>Ashtead Group_028090.txt</th>\n      <th>Associated British Foods PLC_035919.txt</th>\n      <th>Astrazeneca PLC_035998.txt</th>\n      <th>Aviva PLC_035907.txt</th>\n      <th>Barclays PLC_035976.txt</th>\n      <th>...</th>\n      <th>Standard Chartered PLC_035959.txt</th>\n      <th>Standard Life Aberdeen Plc_036365.txt</th>\n      <th>Taylor Wimpey PLC_036366.txt</th>\n      <th>Tesco PLC_035966.txt</th>\n      <th>TUI AG_02821N.txt</th>\n      <th>Unilever PLC_035922.txt</th>\n      <th>United Utilities Group PLC_036341.txt</th>\n      <th>Vodafone Group PLC_035943.txt</th>\n      <th>Whitbread PLC_035895.txt</th>\n      <th>WPP PLC_035947.txt</th>\n    </tr>\n  </thead>\n  <tbody>\n    <tr>\n      <th>0</th>\n      <td>2017-01-02</td>\n      <td>-2.152305</td>\n      <td>-1.347635</td>\n      <td>-1.294240</td>\n      <td>-2.295047</td>\n      <td>-1.199292</td>\n      <td>0.108603</td>\n      <td>-1.456547</td>\n      <td>-0.317386</td>\n      <td>1.288425</td>\n      <td>...</td>\n      <td>-0.841939</td>\n      <td>0.109476</td>\n      <td>-1.712247</td>\n      <td>0.012647</td>\n      <td>-0.987098</td>\n      <td>-2.869013</td>\n      <td>0.733771</td>\n      <td>-0.007477</td>\n      <td>-0.898946</td>\n      <td>1.592327</td>\n    </tr>\n    <tr>\n      <th>1</th>\n      <td>2017-01-03</td>\n      <td>-2.053810</td>\n      <td>-1.189826</td>\n      <td>-1.286110</td>\n      <td>-2.136391</td>\n      <td>-1.136860</td>\n      <td>-0.002687</td>\n      <td>-1.453486</td>\n      <td>-0.134716</td>\n      <td>1.719911</td>\n      <td>...</td>\n      <td>-0.641924</td>\n      <td>0.235964</td>\n      <td>-1.596214</td>\n      <td>-0.013695</td>\n      <td>-1.006700</td>\n      <td>-2.931364</td>\n      <td>0.710001</td>\n      <td>0.100982</td>\n      <td>-0.881773</td>\n      <td>1.624480</td>\n    </tr>\n    <tr>\n      <th>2</th>\n      <td>2017-01-04</td>\n      <td>-1.992251</td>\n      <td>-1.325091</td>\n      <td>-1.365373</td>\n      <td>-2.120526</td>\n      <td>-1.155222</td>\n      <td>-0.333285</td>\n      <td>-1.376940</td>\n      <td>-0.145305</td>\n      <td>1.878207</td>\n      <td>...</td>\n      <td>-0.565862</td>\n      <td>0.226663</td>\n      <td>-1.253914</td>\n      <td>-0.038155</td>\n      <td>-0.967495</td>\n      <td>-2.886828</td>\n      <td>0.638689</td>\n      <td>0.241340</td>\n      <td>-0.713477</td>\n      <td>1.578037</td>\n    </tr>\n    <tr>\n      <th>3</th>\n      <td>2017-01-05</td>\n      <td>-1.924536</td>\n      <td>-1.336363</td>\n      <td>-1.355211</td>\n      <td>-2.035909</td>\n      <td>-1.122170</td>\n      <td>-0.087792</td>\n      <td>-1.226910</td>\n      <td>-0.222080</td>\n      <td>-1.600688</td>\n      <td>...</td>\n      <td>-0.465855</td>\n      <td>-0.054214</td>\n      <td>-0.789779</td>\n      <td>-0.280875</td>\n      <td>-0.947893</td>\n      <td>-2.845854</td>\n      <td>0.724263</td>\n      <td>0.400838</td>\n      <td>-0.469618</td>\n      <td>1.642343</td>\n    </tr>\n    <tr>\n      <th>4</th>\n      <td>2017-01-06</td>\n      <td>-1.912224</td>\n      <td>-1.313819</td>\n      <td>-1.395858</td>\n      <td>-2.094083</td>\n      <td>-1.155222</td>\n      <td>-0.185989</td>\n      <td>-1.225889</td>\n      <td>-0.237964</td>\n      <td>-0.420632</td>\n      <td>...</td>\n      <td>-0.389793</td>\n      <td>-0.039333</td>\n      <td>-0.841994</td>\n      <td>-0.263941</td>\n      <td>-0.977297</td>\n      <td>-2.863669</td>\n      <td>0.695738</td>\n      <td>0.481651</td>\n      <td>-0.332233</td>\n      <td>1.678069</td>\n    </tr>\n    <tr>\n      <th>...</th>\n      <td>...</td>\n      <td>...</td>\n      <td>...</td>\n      <td>...</td>\n      <td>...</td>\n      <td>...</td>\n      <td>...</td>\n      <td>...</td>\n      <td>...</td>\n      <td>...</td>\n      <td>...</td>\n      <td>...</td>\n      <td>...</td>\n      <td>...</td>\n      <td>...</td>\n      <td>...</td>\n      <td>...</td>\n      <td>...</td>\n      <td>...</td>\n      <td>...</td>\n      <td>...</td>\n    </tr>\n    <tr>\n      <th>516</th>\n      <td>2018-12-25</td>\n      <td>-1.509627</td>\n      <td>0.405175</td>\n      <td>1.060066</td>\n      <td>-1.271187</td>\n      <td>-0.967925</td>\n      <td>-2.068105</td>\n      <td>1.653256</td>\n      <td>-3.340717</td>\n      <td>-2.628650</td>\n      <td>...</td>\n      <td>-1.847647</td>\n      <td>-2.137541</td>\n      <td>-2.842126</td>\n      <td>-0.621435</td>\n      <td>-1.151267</td>\n      <td>0.237849</td>\n      <td>-0.878827</td>\n      <td>-1.936340</td>\n      <td>1.656414</td>\n      <td>-1.858805</td>\n    </tr>\n    <tr>\n      <th>517</th>\n      <td>2018-12-26</td>\n      <td>-1.509627</td>\n      <td>0.405175</td>\n      <td>1.060066</td>\n      <td>-1.271187</td>\n      <td>-0.967925</td>\n      <td>-2.068105</td>\n      <td>1.653256</td>\n      <td>-3.340717</td>\n      <td>-2.628650</td>\n      <td>...</td>\n      <td>-1.847647</td>\n      <td>-2.137541</td>\n      <td>-2.842126</td>\n      <td>-0.621435</td>\n      <td>-1.151267</td>\n      <td>0.237849</td>\n      <td>-0.878827</td>\n      <td>-1.936340</td>\n      <td>1.656414</td>\n      <td>-1.858805</td>\n    </tr>\n    <tr>\n      <th>518</th>\n      <td>2018-12-27</td>\n      <td>-1.310175</td>\n      <td>0.433355</td>\n      <td>0.958448</td>\n      <td>-1.406574</td>\n      <td>-1.175421</td>\n      <td>-2.195762</td>\n      <td>1.161321</td>\n      <td>-3.541919</td>\n      <td>-2.662352</td>\n      <td>...</td>\n      <td>-1.995545</td>\n      <td>-2.152421</td>\n      <td>-2.898693</td>\n      <td>-0.638369</td>\n      <td>-1.325238</td>\n      <td>-0.063217</td>\n      <td>-1.002434</td>\n      <td>-2.063088</td>\n      <td>1.501856</td>\n      <td>-1.929542</td>\n    </tr>\n    <tr>\n      <th>519</th>\n      <td>2018-12-28</td>\n      <td>-1.027002</td>\n      <td>0.861694</td>\n      <td>1.121038</td>\n      <td>-1.173878</td>\n      <td>-0.978943</td>\n      <td>-2.100838</td>\n      <td>1.434845</td>\n      <td>-3.224231</td>\n      <td>-2.455035</td>\n      <td>...</td>\n      <td>-1.723694</td>\n      <td>-1.996172</td>\n      <td>-2.675328</td>\n      <td>-0.542410</td>\n      <td>-1.180671</td>\n      <td>0.097114</td>\n      <td>-0.802761</td>\n      <td>-1.932938</td>\n      <td>1.766322</td>\n      <td>-1.848087</td>\n    </tr>\n    <tr>\n      <th>520</th>\n      <td>2018-12-31</td>\n      <td>-1.297863</td>\n      <td>1.132225</td>\n      <td>1.095023</td>\n      <td>-1.150609</td>\n      <td>-0.989960</td>\n      <td>-2.189215</td>\n      <td>1.473629</td>\n      <td>-3.253352</td>\n      <td>-2.435631</td>\n      <td>...</td>\n      <td>-1.606784</td>\n      <td>-2.034304</td>\n      <td>-2.713039</td>\n      <td>-0.617672</td>\n      <td>-1.170870</td>\n      <td>0.038326</td>\n      <td>-0.833187</td>\n      <td>-2.004393</td>\n      <td>1.859057</td>\n      <td>-1.870951</td>\n    </tr>\n  </tbody>\n</table>\n<p>521 rows × 97 columns</p>\n</div>"
     },
     "execution_count": 34,
     "metadata": {},
     "output_type": "execute_result"
    }
   ],
   "source": [
    "model_imputed_df_orig"
   ],
   "metadata": {
    "collapsed": false,
    "ExecuteTime": {
     "end_time": "2024-08-07T13:35:12.046842Z",
     "start_time": "2024-08-07T13:35:12.031033Z"
    }
   },
   "id": "f16c0b260edc85cf",
   "execution_count": 34
  },
  {
   "cell_type": "code",
   "outputs": [],
   "source": [],
   "metadata": {
    "collapsed": false,
    "ExecuteTime": {
     "end_time": "2024-08-07T13:35:12.049580Z",
     "start_time": "2024-08-07T13:35:12.047929Z"
    }
   },
   "id": "26cebfc5a9333fa1",
   "execution_count": 34
  }
 ],
 "metadata": {
  "kernelspec": {
   "display_name": "Python 3",
   "language": "python",
   "name": "python3"
  },
  "language_info": {
   "codemirror_mode": {
    "name": "ipython",
    "version": 2
   },
   "file_extension": ".py",
   "mimetype": "text/x-python",
   "name": "python",
   "nbconvert_exporter": "python",
   "pygments_lexer": "ipython2",
   "version": "2.7.6"
  }
 },
 "nbformat": 4,
 "nbformat_minor": 5
}
