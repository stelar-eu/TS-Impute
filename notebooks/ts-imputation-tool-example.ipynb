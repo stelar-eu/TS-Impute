{
 "cells": [
  {
   "cell_type": "markdown",
   "id": "b717fd95",
   "metadata": {},
   "source": [
    "### TS-Imputation Invocation Notebook - example "
   ]
  },
  {
   "cell_type": "code",
   "execution_count": null,
   "id": "31f084dd",
   "metadata": {},
   "outputs": [],
   "source": [
    "from stelar.client import Client, TaskSpec\n",
    "\n",
    "\n",
    "# Instantiate the client with the base URL and personal credentials\n",
    "c = Client(base_url=\"https://klms.stelar.gr\", username=\"***\", password=\"***\")"
   ]
  },
  {
   "cell_type": "code",
   "execution_count": 2,
   "id": "d8ab07ab",
   "metadata": {},
   "outputs": [
    {
     "name": "stdout",
     "output_type": "stream",
     "text": [
      "Browse workflow process at https://klms.stelar.gr/stelar/console/v1/process/759d9454-a3c2-4e37-a4ed-54c8ef0f885e\n"
     ]
    }
   ],
   "source": [
    "proc = c.processes[\"759d9454-a3c2-4e37-a4ed-54c8ef0f885e\"]\n",
    "print(f\"Browse workflow process at {c._base_url}/console/v1/process/{str(proc.id)}\")"
   ]
  },
  {
   "cell_type": "code",
   "execution_count": 3,
   "id": "6bf66b14",
   "metadata": {},
   "outputs": [
    {
     "name": "stdout",
     "output_type": "stream",
     "text": [
      "Browse the task at https://klms.stelar.gr/stelar/console/v1/task/759d9454-a3c2-4e37-a4ed-54c8ef0f885e/1c03df5f-9f20-4c05-b620-df614a258567\n"
     ]
    }
   ],
   "source": [
    "t = TaskSpec(tool=\"ts-imputation\", name=f\"TS-Imputation Example in KLMS\")\n",
    "\n",
    "# Set the input missing timeseries file\n",
    "t.i(missing=\"56ee301f-0d9e-4433-8b0b-0094647c850a\", ground_truth=\"e4d6257d-a0a4-4b04-bf3d-9ae1c8cc234e\")\n",
    "\n",
    "t.d(alias=\"d0\", dset=\"afab46b4-42d7-4cbe-84be-798a4b77a167\")\n",
    "\n",
    "# Set the destination path for the imputed timeseries\n",
    "t.o(\n",
    "    imputed_timeseries={\n",
    "        \"url\": f\"s3://test-bucket/test_imputation/klms_test_imputed_timeseries.csv\",\n",
    "        \"resource\": {\n",
    "            \"name\": f\"Imputed timeseries\",\n",
    "            \"relation\": \"imputed_timeseries\",\n",
    "        },\n",
    "        \"dataset\": \"d0\",\n",
    "    }\n",
    ")\n",
    "\n",
    "# Set the parameters for the task\n",
    "p_spec = {\n",
    "    \"time_column\": \"time\",\n",
    "    \"time_format\": \"%Y-%m-%d\",\n",
    "    \"sep\": \",\",\n",
    "    \"header\": 0,\n",
    "    \"hyperparameter_tuning\": False,\n",
    "    \"is_multivariate\": False,\n",
    "    \"n_trials\": 50,\n",
    "    \"tuning_top_k_fewer_missing\": 15000,\n",
    "    \"imp_method\": \"dynammo\",\n",
    "    \"default\": True,\n",
    "    \"params\": {}\n",
    "}\n",
    "\n",
    "t.p(**p_spec)\n",
    "\n",
    "# Run the task\n",
    "ts_impute_t = proc.run(t)\n",
    "print(\n",
    "    f\"Browse the task at {c._base_url}/console/v1/task/{str(proc.id)}/{str(ts_impute_t.id)}\"\n",
    ")\n"
   ]
  },
  {
   "cell_type": "code",
   "execution_count": null,
   "id": "1c76ba53",
   "metadata": {},
   "outputs": [],
   "source": []
  }
 ],
 "metadata": {
  "kernelspec": {
   "display_name": "python3.12_venv",
   "language": "python",
   "name": "python3"
  },
  "language_info": {
   "codemirror_mode": {
    "name": "ipython",
    "version": 3
   },
   "file_extension": ".py",
   "mimetype": "text/x-python",
   "name": "python",
   "nbconvert_exporter": "python",
   "pygments_lexer": "ipython3",
   "version": "3.12.3"
  }
 },
 "nbformat": 4,
 "nbformat_minor": 5
}
